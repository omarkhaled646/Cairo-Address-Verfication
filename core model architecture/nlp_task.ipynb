{
  "nbformat": 4,
  "nbformat_minor": 0,
  "metadata": {
    "colab": {
      "provenance": []
    },
    "kernelspec": {
      "name": "python3",
      "display_name": "Python 3"
    },
    "language_info": {
      "name": "python"
    }
  },
  "cells": [
    {
      "cell_type": "code",
      "execution_count": null,
      "metadata": {
        "colab": {
          "base_uri": "https://localhost:8080/"
        },
        "id": "X7OY55lNSB1W",
        "outputId": "7e16cf6c-7559-4519-9405-dce98c22dd78"
      },
      "outputs": [
        {
          "output_type": "stream",
          "name": "stdout",
          "text": [
            "Requirement already satisfied: fasttext in /usr/local/lib/python3.10/dist-packages (0.9.2)\n",
            "Requirement already satisfied: pybind11>=2.2 in /usr/local/lib/python3.10/dist-packages (from fasttext) (2.11.1)\n",
            "Requirement already satisfied: setuptools>=0.7.0 in /usr/local/lib/python3.10/dist-packages (from fasttext) (67.7.2)\n",
            "Requirement already satisfied: numpy in /usr/local/lib/python3.10/dist-packages (from fasttext) (1.23.5)\n"
          ]
        },
        {
          "output_type": "stream",
          "name": "stderr",
          "text": [
            "[nltk_data] Downloading package punkt to /root/nltk_data...\n",
            "[nltk_data]   Package punkt is already up-to-date!\n"
          ]
        },
        {
          "output_type": "execute_result",
          "data": {
            "text/plain": [
              "True"
            ]
          },
          "metadata": {},
          "execution_count": 1
        }
      ],
      "source": [
        "!pip install fasttext\n",
        "import fasttext\n",
        "from huggingface_hub import hf_hub_download\n",
        "import requests\n",
        "from bs4 import BeautifulSoup\n",
        "import pandas as pd\n",
        "import numpy as np\n",
        "from sklearn.model_selection import train_test_split\n",
        "from sklearn.model_selection import cross_val_score, cross_val_predict\n",
        "from sklearn.linear_model import LogisticRegression\n",
        "from sklearn.tree import DecisionTreeClassifier\n",
        "from sklearn.linear_model import SGDClassifier\n",
        "from sklearn.ensemble import RandomForestClassifier\n",
        "from sklearn.svm import SVC\n",
        "import xgboost as xgb\n",
        "from sklearn.metrics import f1_score, precision_score, recall_score, confusion_matrix\n",
        "from sklearn.metrics import roc_auc_score\n",
        "from sklearn.preprocessing import LabelEncoder\n",
        "from nltk.tokenize import word_tokenize\n",
        "import nltk\n",
        "nltk.download('punkt')"
      ]
    },
    {
      "cell_type": "code",
      "source": [
        "model_path = hf_hub_download(repo_id=\"facebook/fasttext-ar-vectors\", filename=\"model.bin\")\n",
        "model = fasttext.load_model(model_path)"
      ],
      "metadata": {
        "colab": {
          "base_uri": "https://localhost:8080/"
        },
        "id": "aXRvtH_hSDo0",
        "outputId": "a7abc8af-7c73-4702-d4fb-af22384800ad"
      },
      "execution_count": null,
      "outputs": [
        {
          "output_type": "stream",
          "name": "stderr",
          "text": [
            "/usr/local/lib/python3.10/dist-packages/huggingface_hub/utils/_token.py:72: UserWarning: \n",
            "The secret `HF_TOKEN` does not exist in your Colab secrets.\n",
            "To authenticate with the Hugging Face Hub, create a token in your settings tab (https://huggingface.co/settings/tokens), set it as secret in your Google Colab and restart your session.\n",
            "You will be able to reuse this secret in all of your notebooks.\n",
            "Please note that authentication is recommended but still optional to access public models or datasets.\n",
            "  warnings.warn(\n",
            "Warning : `load_model` does not return WordVectorModel or SupervisedModel any more, but a `FastText` object which is very similar.\n"
          ]
        }
      ]
    },
    {
      "cell_type": "code",
      "source": [
        "len(model.words)"
      ],
      "metadata": {
        "colab": {
          "base_uri": "https://localhost:8080/"
        },
        "id": "u6-R5RSIS-K2",
        "outputId": "1800979f-9483-4ea9-ccaa-0a399128f1e5"
      },
      "execution_count": null,
      "outputs": [
        {
          "output_type": "execute_result",
          "data": {
            "text/plain": [
              "2000000"
            ]
          },
          "metadata": {},
          "execution_count": 3
        }
      ]
    },
    {
      "cell_type": "code",
      "source": [
        "def extract_data(url, table_columns, cairo_districts):\n",
        "  df = pd.DataFrame(columns= table_columns)\n",
        "  page = requests.get(url).text\n",
        "  data = BeautifulSoup(page, 'html.parser')\n",
        "  uls = data.find_all('ul', class_= 'link')\n",
        "  h3 = data.find_all('h3')\n",
        "\n",
        "  for i,ul in enumerate(uls):\n",
        "    list_of_districts = ul.find_all('li')\n",
        "    label = None\n",
        "    if(h3[i].a.contents[0] == 'القاهرة'):\n",
        "      label = 1\n",
        "    else:\n",
        "      label = 0\n",
        "    for i, district in enumerate(list_of_districts):\n",
        "      if i == len(list_of_districts) - 1:\n",
        "        break\n",
        "      data_dict = {\n",
        "          \"district_name\": district.a.contents[0],\n",
        "          'label': label\n",
        "      }\n",
        "      df_temp = pd.DataFrame(data_dict, index= [0])\n",
        "      df = pd.concat([df, df_temp], ignore_index = True)\n",
        "\n",
        "  with open ('Cairo.txt', 'r') as f:\n",
        "    list_ = []\n",
        "    for line in f.readlines():\n",
        "      list_.append(line[:-1])\n",
        "\n",
        "  subset = [district for district, label in zip(df['district_name'], df['label']) if label == 1]\n",
        "  difference_list = list(set(list_) - set(subset))\n",
        "\n",
        "  for district in difference_list:\n",
        "    data_dict = {\n",
        "          \"district_name\": district,\n",
        "          'label': 1\n",
        "      }\n",
        "    df_temp = pd.DataFrame(data_dict, index= [0])\n",
        "    df = pd.concat([df, df_temp], ignore_index = True)\n",
        "\n",
        "  return df\n",
        "\n"
      ],
      "metadata": {
        "id": "-GtI0QHw__Kq"
      },
      "execution_count": null,
      "outputs": []
    },
    {
      "cell_type": "code",
      "source": [
        "url = \"https://eg.dowwr.com/regions/\"\n",
        "table_columns = ['district_name', 'label']"
      ],
      "metadata": {
        "id": "NivaUWdkLCTk"
      },
      "execution_count": null,
      "outputs": []
    },
    {
      "cell_type": "code",
      "source": [
        "df = extract_data(url, table_columns, 'Cairo.txt')"
      ],
      "metadata": {
        "id": "OlkTlKO9LOe_"
      },
      "execution_count": null,
      "outputs": []
    },
    {
      "cell_type": "code",
      "source": [
        "df.head()"
      ],
      "metadata": {
        "colab": {
          "base_uri": "https://localhost:8080/",
          "height": 206
        },
        "id": "_Elo2PHALv6_",
        "outputId": "7f871ee2-4435-4889-98c7-6951c47296b9"
      },
      "execution_count": null,
      "outputs": [
        {
          "output_type": "execute_result",
          "data": {
            "text/plain": [
              "  district_name label\n",
              "0     ابو الريش     0\n",
              "1      ابو سمبل     0\n",
              "2          ادفو     0\n",
              "3      البصيلية     0\n",
              "4      الرديسية     0"
            ],
            "text/html": [
              "\n",
              "  <div id=\"df-81593bf6-2112-4831-8e80-17dec5c64b37\" class=\"colab-df-container\">\n",
              "    <div>\n",
              "<style scoped>\n",
              "    .dataframe tbody tr th:only-of-type {\n",
              "        vertical-align: middle;\n",
              "    }\n",
              "\n",
              "    .dataframe tbody tr th {\n",
              "        vertical-align: top;\n",
              "    }\n",
              "\n",
              "    .dataframe thead th {\n",
              "        text-align: right;\n",
              "    }\n",
              "</style>\n",
              "<table border=\"1\" class=\"dataframe\">\n",
              "  <thead>\n",
              "    <tr style=\"text-align: right;\">\n",
              "      <th></th>\n",
              "      <th>district_name</th>\n",
              "      <th>label</th>\n",
              "    </tr>\n",
              "  </thead>\n",
              "  <tbody>\n",
              "    <tr>\n",
              "      <th>0</th>\n",
              "      <td>ابو الريش</td>\n",
              "      <td>0</td>\n",
              "    </tr>\n",
              "    <tr>\n",
              "      <th>1</th>\n",
              "      <td>ابو سمبل</td>\n",
              "      <td>0</td>\n",
              "    </tr>\n",
              "    <tr>\n",
              "      <th>2</th>\n",
              "      <td>ادفو</td>\n",
              "      <td>0</td>\n",
              "    </tr>\n",
              "    <tr>\n",
              "      <th>3</th>\n",
              "      <td>البصيلية</td>\n",
              "      <td>0</td>\n",
              "    </tr>\n",
              "    <tr>\n",
              "      <th>4</th>\n",
              "      <td>الرديسية</td>\n",
              "      <td>0</td>\n",
              "    </tr>\n",
              "  </tbody>\n",
              "</table>\n",
              "</div>\n",
              "    <div class=\"colab-df-buttons\">\n",
              "\n",
              "  <div class=\"colab-df-container\">\n",
              "    <button class=\"colab-df-convert\" onclick=\"convertToInteractive('df-81593bf6-2112-4831-8e80-17dec5c64b37')\"\n",
              "            title=\"Convert this dataframe to an interactive table.\"\n",
              "            style=\"display:none;\">\n",
              "\n",
              "  <svg xmlns=\"http://www.w3.org/2000/svg\" height=\"24px\" viewBox=\"0 -960 960 960\">\n",
              "    <path d=\"M120-120v-720h720v720H120Zm60-500h600v-160H180v160Zm220 220h160v-160H400v160Zm0 220h160v-160H400v160ZM180-400h160v-160H180v160Zm440 0h160v-160H620v160ZM180-180h160v-160H180v160Zm440 0h160v-160H620v160Z\"/>\n",
              "  </svg>\n",
              "    </button>\n",
              "\n",
              "  <style>\n",
              "    .colab-df-container {\n",
              "      display:flex;\n",
              "      gap: 12px;\n",
              "    }\n",
              "\n",
              "    .colab-df-convert {\n",
              "      background-color: #E8F0FE;\n",
              "      border: none;\n",
              "      border-radius: 50%;\n",
              "      cursor: pointer;\n",
              "      display: none;\n",
              "      fill: #1967D2;\n",
              "      height: 32px;\n",
              "      padding: 0 0 0 0;\n",
              "      width: 32px;\n",
              "    }\n",
              "\n",
              "    .colab-df-convert:hover {\n",
              "      background-color: #E2EBFA;\n",
              "      box-shadow: 0px 1px 2px rgba(60, 64, 67, 0.3), 0px 1px 3px 1px rgba(60, 64, 67, 0.15);\n",
              "      fill: #174EA6;\n",
              "    }\n",
              "\n",
              "    .colab-df-buttons div {\n",
              "      margin-bottom: 4px;\n",
              "    }\n",
              "\n",
              "    [theme=dark] .colab-df-convert {\n",
              "      background-color: #3B4455;\n",
              "      fill: #D2E3FC;\n",
              "    }\n",
              "\n",
              "    [theme=dark] .colab-df-convert:hover {\n",
              "      background-color: #434B5C;\n",
              "      box-shadow: 0px 1px 3px 1px rgba(0, 0, 0, 0.15);\n",
              "      filter: drop-shadow(0px 1px 2px rgba(0, 0, 0, 0.3));\n",
              "      fill: #FFFFFF;\n",
              "    }\n",
              "  </style>\n",
              "\n",
              "    <script>\n",
              "      const buttonEl =\n",
              "        document.querySelector('#df-81593bf6-2112-4831-8e80-17dec5c64b37 button.colab-df-convert');\n",
              "      buttonEl.style.display =\n",
              "        google.colab.kernel.accessAllowed ? 'block' : 'none';\n",
              "\n",
              "      async function convertToInteractive(key) {\n",
              "        const element = document.querySelector('#df-81593bf6-2112-4831-8e80-17dec5c64b37');\n",
              "        const dataTable =\n",
              "          await google.colab.kernel.invokeFunction('convertToInteractive',\n",
              "                                                    [key], {});\n",
              "        if (!dataTable) return;\n",
              "\n",
              "        const docLinkHtml = 'Like what you see? Visit the ' +\n",
              "          '<a target=\"_blank\" href=https://colab.research.google.com/notebooks/data_table.ipynb>data table notebook</a>'\n",
              "          + ' to learn more about interactive tables.';\n",
              "        element.innerHTML = '';\n",
              "        dataTable['output_type'] = 'display_data';\n",
              "        await google.colab.output.renderOutput(dataTable, element);\n",
              "        const docLink = document.createElement('div');\n",
              "        docLink.innerHTML = docLinkHtml;\n",
              "        element.appendChild(docLink);\n",
              "      }\n",
              "    </script>\n",
              "  </div>\n",
              "\n",
              "\n",
              "<div id=\"df-d4d6599a-a475-4ed3-82e3-b30ede281e88\">\n",
              "  <button class=\"colab-df-quickchart\" onclick=\"quickchart('df-d4d6599a-a475-4ed3-82e3-b30ede281e88')\"\n",
              "            title=\"Suggest charts\"\n",
              "            style=\"display:none;\">\n",
              "\n",
              "<svg xmlns=\"http://www.w3.org/2000/svg\" height=\"24px\"viewBox=\"0 0 24 24\"\n",
              "     width=\"24px\">\n",
              "    <g>\n",
              "        <path d=\"M19 3H5c-1.1 0-2 .9-2 2v14c0 1.1.9 2 2 2h14c1.1 0 2-.9 2-2V5c0-1.1-.9-2-2-2zM9 17H7v-7h2v7zm4 0h-2V7h2v10zm4 0h-2v-4h2v4z\"/>\n",
              "    </g>\n",
              "</svg>\n",
              "  </button>\n",
              "\n",
              "<style>\n",
              "  .colab-df-quickchart {\n",
              "      --bg-color: #E8F0FE;\n",
              "      --fill-color: #1967D2;\n",
              "      --hover-bg-color: #E2EBFA;\n",
              "      --hover-fill-color: #174EA6;\n",
              "      --disabled-fill-color: #AAA;\n",
              "      --disabled-bg-color: #DDD;\n",
              "  }\n",
              "\n",
              "  [theme=dark] .colab-df-quickchart {\n",
              "      --bg-color: #3B4455;\n",
              "      --fill-color: #D2E3FC;\n",
              "      --hover-bg-color: #434B5C;\n",
              "      --hover-fill-color: #FFFFFF;\n",
              "      --disabled-bg-color: #3B4455;\n",
              "      --disabled-fill-color: #666;\n",
              "  }\n",
              "\n",
              "  .colab-df-quickchart {\n",
              "    background-color: var(--bg-color);\n",
              "    border: none;\n",
              "    border-radius: 50%;\n",
              "    cursor: pointer;\n",
              "    display: none;\n",
              "    fill: var(--fill-color);\n",
              "    height: 32px;\n",
              "    padding: 0;\n",
              "    width: 32px;\n",
              "  }\n",
              "\n",
              "  .colab-df-quickchart:hover {\n",
              "    background-color: var(--hover-bg-color);\n",
              "    box-shadow: 0 1px 2px rgba(60, 64, 67, 0.3), 0 1px 3px 1px rgba(60, 64, 67, 0.15);\n",
              "    fill: var(--button-hover-fill-color);\n",
              "  }\n",
              "\n",
              "  .colab-df-quickchart-complete:disabled,\n",
              "  .colab-df-quickchart-complete:disabled:hover {\n",
              "    background-color: var(--disabled-bg-color);\n",
              "    fill: var(--disabled-fill-color);\n",
              "    box-shadow: none;\n",
              "  }\n",
              "\n",
              "  .colab-df-spinner {\n",
              "    border: 2px solid var(--fill-color);\n",
              "    border-color: transparent;\n",
              "    border-bottom-color: var(--fill-color);\n",
              "    animation:\n",
              "      spin 1s steps(1) infinite;\n",
              "  }\n",
              "\n",
              "  @keyframes spin {\n",
              "    0% {\n",
              "      border-color: transparent;\n",
              "      border-bottom-color: var(--fill-color);\n",
              "      border-left-color: var(--fill-color);\n",
              "    }\n",
              "    20% {\n",
              "      border-color: transparent;\n",
              "      border-left-color: var(--fill-color);\n",
              "      border-top-color: var(--fill-color);\n",
              "    }\n",
              "    30% {\n",
              "      border-color: transparent;\n",
              "      border-left-color: var(--fill-color);\n",
              "      border-top-color: var(--fill-color);\n",
              "      border-right-color: var(--fill-color);\n",
              "    }\n",
              "    40% {\n",
              "      border-color: transparent;\n",
              "      border-right-color: var(--fill-color);\n",
              "      border-top-color: var(--fill-color);\n",
              "    }\n",
              "    60% {\n",
              "      border-color: transparent;\n",
              "      border-right-color: var(--fill-color);\n",
              "    }\n",
              "    80% {\n",
              "      border-color: transparent;\n",
              "      border-right-color: var(--fill-color);\n",
              "      border-bottom-color: var(--fill-color);\n",
              "    }\n",
              "    90% {\n",
              "      border-color: transparent;\n",
              "      border-bottom-color: var(--fill-color);\n",
              "    }\n",
              "  }\n",
              "</style>\n",
              "\n",
              "  <script>\n",
              "    async function quickchart(key) {\n",
              "      const quickchartButtonEl =\n",
              "        document.querySelector('#' + key + ' button');\n",
              "      quickchartButtonEl.disabled = true;  // To prevent multiple clicks.\n",
              "      quickchartButtonEl.classList.add('colab-df-spinner');\n",
              "      try {\n",
              "        const charts = await google.colab.kernel.invokeFunction(\n",
              "            'suggestCharts', [key], {});\n",
              "      } catch (error) {\n",
              "        console.error('Error during call to suggestCharts:', error);\n",
              "      }\n",
              "      quickchartButtonEl.classList.remove('colab-df-spinner');\n",
              "      quickchartButtonEl.classList.add('colab-df-quickchart-complete');\n",
              "    }\n",
              "    (() => {\n",
              "      let quickchartButtonEl =\n",
              "        document.querySelector('#df-d4d6599a-a475-4ed3-82e3-b30ede281e88 button');\n",
              "      quickchartButtonEl.style.display =\n",
              "        google.colab.kernel.accessAllowed ? 'block' : 'none';\n",
              "    })();\n",
              "  </script>\n",
              "</div>\n",
              "\n",
              "    </div>\n",
              "  </div>\n"
            ]
          },
          "metadata": {},
          "execution_count": 7
        }
      ]
    },
    {
      "cell_type": "code",
      "source": [
        "len(df)"
      ],
      "metadata": {
        "colab": {
          "base_uri": "https://localhost:8080/"
        },
        "id": "mwXj1oR0TVJC",
        "outputId": "90d938b1-72ec-4593-e283-e43106a81543"
      },
      "execution_count": null,
      "outputs": [
        {
          "output_type": "execute_result",
          "data": {
            "text/plain": [
              "413"
            ]
          },
          "metadata": {},
          "execution_count": 8
        }
      ]
    },
    {
      "cell_type": "code",
      "source": [
        "df.to_csv('district_data.csv', encoding='utf-8', index=False)"
      ],
      "metadata": {
        "id": "AUEfOrPDL-P2"
      },
      "execution_count": null,
      "outputs": []
    },
    {
      "cell_type": "code",
      "source": [
        "district_tokens = []\n",
        "embeddings = []\n",
        "\n",
        "for district in df['district_name']:\n",
        "  tokens = word_tokenize(district)\n",
        "  embeddings.append(np.mean([model.get_word_vector(token) for token in tokens], axis= 0))\n",
        "  district_tokens.append(tokens)\n"
      ],
      "metadata": {
        "id": "G8ENVjJRbrzr"
      },
      "execution_count": null,
      "outputs": []
    },
    {
      "cell_type": "code",
      "source": [
        "df_embeddings = pd.DataFrame(embeddings)"
      ],
      "metadata": {
        "id": "0xYNrired_Zg"
      },
      "execution_count": null,
      "outputs": []
    },
    {
      "cell_type": "code",
      "source": [
        "df_embeddings.head()"
      ],
      "metadata": {
        "colab": {
          "base_uri": "https://localhost:8080/",
          "height": 256
        },
        "id": "gEtqhx5ogCjo",
        "outputId": "3286ab5a-eeff-4f48-91fd-f54fcd137416"
      },
      "execution_count": null,
      "outputs": [
        {
          "output_type": "execute_result",
          "data": {
            "text/plain": [
              "        0         1         2         3         4         5         6    \\\n",
              "0  0.020113  0.038619 -0.025801  0.028731  0.232983 -0.003282  0.075591   \n",
              "1 -0.036470 -0.014833  0.039275  0.067893  0.284031 -0.046144  0.121496   \n",
              "2  0.077119 -0.024226  0.077301  0.049764  0.320695 -0.023371  0.101289   \n",
              "3  0.077384 -0.013852  0.051879  0.085105  0.073722  0.009531 -0.022815   \n",
              "4  0.046520 -0.034087 -0.034701  0.041161  0.076133  0.010586 -0.001144   \n",
              "\n",
              "        7         8         9    ...       290       291       292       293  \\\n",
              "0  0.097136 -0.006230 -0.070113  ... -0.043708 -0.016309 -0.058354  0.012242   \n",
              "1  0.122714 -0.040895 -0.155957  ... -0.095819 -0.073423  0.003372  0.003084   \n",
              "2 -0.057145 -0.076402  0.040142  ... -0.090503 -0.070357  0.051376 -0.010567   \n",
              "3  0.020477  0.011879 -0.034024  ... -0.002647 -0.023587 -0.011348 -0.004207   \n",
              "4  0.054442 -0.023870 -0.060203  ... -0.002910 -0.028294 -0.022261  0.037960   \n",
              "\n",
              "        294       295       296       297       298       299  \n",
              "0 -0.011040 -0.019971  0.176365  0.025988 -0.077671  0.035623  \n",
              "1  0.056712  0.052449  0.106780  0.033557 -0.021952  0.049117  \n",
              "2  0.048291  0.026196 -0.025980  0.087627  0.002383  0.072401  \n",
              "3 -0.028661  0.027502  0.049723 -0.024311 -0.041588 -0.019317  \n",
              "4 -0.029681 -0.004084  0.057400  0.029789 -0.021884  0.027497  \n",
              "\n",
              "[5 rows x 300 columns]"
            ],
            "text/html": [
              "\n",
              "  <div id=\"df-8ea8c659-ead6-4452-bee6-12d7bc931a2c\" class=\"colab-df-container\">\n",
              "    <div>\n",
              "<style scoped>\n",
              "    .dataframe tbody tr th:only-of-type {\n",
              "        vertical-align: middle;\n",
              "    }\n",
              "\n",
              "    .dataframe tbody tr th {\n",
              "        vertical-align: top;\n",
              "    }\n",
              "\n",
              "    .dataframe thead th {\n",
              "        text-align: right;\n",
              "    }\n",
              "</style>\n",
              "<table border=\"1\" class=\"dataframe\">\n",
              "  <thead>\n",
              "    <tr style=\"text-align: right;\">\n",
              "      <th></th>\n",
              "      <th>0</th>\n",
              "      <th>1</th>\n",
              "      <th>2</th>\n",
              "      <th>3</th>\n",
              "      <th>4</th>\n",
              "      <th>5</th>\n",
              "      <th>6</th>\n",
              "      <th>7</th>\n",
              "      <th>8</th>\n",
              "      <th>9</th>\n",
              "      <th>...</th>\n",
              "      <th>290</th>\n",
              "      <th>291</th>\n",
              "      <th>292</th>\n",
              "      <th>293</th>\n",
              "      <th>294</th>\n",
              "      <th>295</th>\n",
              "      <th>296</th>\n",
              "      <th>297</th>\n",
              "      <th>298</th>\n",
              "      <th>299</th>\n",
              "    </tr>\n",
              "  </thead>\n",
              "  <tbody>\n",
              "    <tr>\n",
              "      <th>0</th>\n",
              "      <td>0.020113</td>\n",
              "      <td>0.038619</td>\n",
              "      <td>-0.025801</td>\n",
              "      <td>0.028731</td>\n",
              "      <td>0.232983</td>\n",
              "      <td>-0.003282</td>\n",
              "      <td>0.075591</td>\n",
              "      <td>0.097136</td>\n",
              "      <td>-0.006230</td>\n",
              "      <td>-0.070113</td>\n",
              "      <td>...</td>\n",
              "      <td>-0.043708</td>\n",
              "      <td>-0.016309</td>\n",
              "      <td>-0.058354</td>\n",
              "      <td>0.012242</td>\n",
              "      <td>-0.011040</td>\n",
              "      <td>-0.019971</td>\n",
              "      <td>0.176365</td>\n",
              "      <td>0.025988</td>\n",
              "      <td>-0.077671</td>\n",
              "      <td>0.035623</td>\n",
              "    </tr>\n",
              "    <tr>\n",
              "      <th>1</th>\n",
              "      <td>-0.036470</td>\n",
              "      <td>-0.014833</td>\n",
              "      <td>0.039275</td>\n",
              "      <td>0.067893</td>\n",
              "      <td>0.284031</td>\n",
              "      <td>-0.046144</td>\n",
              "      <td>0.121496</td>\n",
              "      <td>0.122714</td>\n",
              "      <td>-0.040895</td>\n",
              "      <td>-0.155957</td>\n",
              "      <td>...</td>\n",
              "      <td>-0.095819</td>\n",
              "      <td>-0.073423</td>\n",
              "      <td>0.003372</td>\n",
              "      <td>0.003084</td>\n",
              "      <td>0.056712</td>\n",
              "      <td>0.052449</td>\n",
              "      <td>0.106780</td>\n",
              "      <td>0.033557</td>\n",
              "      <td>-0.021952</td>\n",
              "      <td>0.049117</td>\n",
              "    </tr>\n",
              "    <tr>\n",
              "      <th>2</th>\n",
              "      <td>0.077119</td>\n",
              "      <td>-0.024226</td>\n",
              "      <td>0.077301</td>\n",
              "      <td>0.049764</td>\n",
              "      <td>0.320695</td>\n",
              "      <td>-0.023371</td>\n",
              "      <td>0.101289</td>\n",
              "      <td>-0.057145</td>\n",
              "      <td>-0.076402</td>\n",
              "      <td>0.040142</td>\n",
              "      <td>...</td>\n",
              "      <td>-0.090503</td>\n",
              "      <td>-0.070357</td>\n",
              "      <td>0.051376</td>\n",
              "      <td>-0.010567</td>\n",
              "      <td>0.048291</td>\n",
              "      <td>0.026196</td>\n",
              "      <td>-0.025980</td>\n",
              "      <td>0.087627</td>\n",
              "      <td>0.002383</td>\n",
              "      <td>0.072401</td>\n",
              "    </tr>\n",
              "    <tr>\n",
              "      <th>3</th>\n",
              "      <td>0.077384</td>\n",
              "      <td>-0.013852</td>\n",
              "      <td>0.051879</td>\n",
              "      <td>0.085105</td>\n",
              "      <td>0.073722</td>\n",
              "      <td>0.009531</td>\n",
              "      <td>-0.022815</td>\n",
              "      <td>0.020477</td>\n",
              "      <td>0.011879</td>\n",
              "      <td>-0.034024</td>\n",
              "      <td>...</td>\n",
              "      <td>-0.002647</td>\n",
              "      <td>-0.023587</td>\n",
              "      <td>-0.011348</td>\n",
              "      <td>-0.004207</td>\n",
              "      <td>-0.028661</td>\n",
              "      <td>0.027502</td>\n",
              "      <td>0.049723</td>\n",
              "      <td>-0.024311</td>\n",
              "      <td>-0.041588</td>\n",
              "      <td>-0.019317</td>\n",
              "    </tr>\n",
              "    <tr>\n",
              "      <th>4</th>\n",
              "      <td>0.046520</td>\n",
              "      <td>-0.034087</td>\n",
              "      <td>-0.034701</td>\n",
              "      <td>0.041161</td>\n",
              "      <td>0.076133</td>\n",
              "      <td>0.010586</td>\n",
              "      <td>-0.001144</td>\n",
              "      <td>0.054442</td>\n",
              "      <td>-0.023870</td>\n",
              "      <td>-0.060203</td>\n",
              "      <td>...</td>\n",
              "      <td>-0.002910</td>\n",
              "      <td>-0.028294</td>\n",
              "      <td>-0.022261</td>\n",
              "      <td>0.037960</td>\n",
              "      <td>-0.029681</td>\n",
              "      <td>-0.004084</td>\n",
              "      <td>0.057400</td>\n",
              "      <td>0.029789</td>\n",
              "      <td>-0.021884</td>\n",
              "      <td>0.027497</td>\n",
              "    </tr>\n",
              "  </tbody>\n",
              "</table>\n",
              "<p>5 rows × 300 columns</p>\n",
              "</div>\n",
              "    <div class=\"colab-df-buttons\">\n",
              "\n",
              "  <div class=\"colab-df-container\">\n",
              "    <button class=\"colab-df-convert\" onclick=\"convertToInteractive('df-8ea8c659-ead6-4452-bee6-12d7bc931a2c')\"\n",
              "            title=\"Convert this dataframe to an interactive table.\"\n",
              "            style=\"display:none;\">\n",
              "\n",
              "  <svg xmlns=\"http://www.w3.org/2000/svg\" height=\"24px\" viewBox=\"0 -960 960 960\">\n",
              "    <path d=\"M120-120v-720h720v720H120Zm60-500h600v-160H180v160Zm220 220h160v-160H400v160Zm0 220h160v-160H400v160ZM180-400h160v-160H180v160Zm440 0h160v-160H620v160ZM180-180h160v-160H180v160Zm440 0h160v-160H620v160Z\"/>\n",
              "  </svg>\n",
              "    </button>\n",
              "\n",
              "  <style>\n",
              "    .colab-df-container {\n",
              "      display:flex;\n",
              "      gap: 12px;\n",
              "    }\n",
              "\n",
              "    .colab-df-convert {\n",
              "      background-color: #E8F0FE;\n",
              "      border: none;\n",
              "      border-radius: 50%;\n",
              "      cursor: pointer;\n",
              "      display: none;\n",
              "      fill: #1967D2;\n",
              "      height: 32px;\n",
              "      padding: 0 0 0 0;\n",
              "      width: 32px;\n",
              "    }\n",
              "\n",
              "    .colab-df-convert:hover {\n",
              "      background-color: #E2EBFA;\n",
              "      box-shadow: 0px 1px 2px rgba(60, 64, 67, 0.3), 0px 1px 3px 1px rgba(60, 64, 67, 0.15);\n",
              "      fill: #174EA6;\n",
              "    }\n",
              "\n",
              "    .colab-df-buttons div {\n",
              "      margin-bottom: 4px;\n",
              "    }\n",
              "\n",
              "    [theme=dark] .colab-df-convert {\n",
              "      background-color: #3B4455;\n",
              "      fill: #D2E3FC;\n",
              "    }\n",
              "\n",
              "    [theme=dark] .colab-df-convert:hover {\n",
              "      background-color: #434B5C;\n",
              "      box-shadow: 0px 1px 3px 1px rgba(0, 0, 0, 0.15);\n",
              "      filter: drop-shadow(0px 1px 2px rgba(0, 0, 0, 0.3));\n",
              "      fill: #FFFFFF;\n",
              "    }\n",
              "  </style>\n",
              "\n",
              "    <script>\n",
              "      const buttonEl =\n",
              "        document.querySelector('#df-8ea8c659-ead6-4452-bee6-12d7bc931a2c button.colab-df-convert');\n",
              "      buttonEl.style.display =\n",
              "        google.colab.kernel.accessAllowed ? 'block' : 'none';\n",
              "\n",
              "      async function convertToInteractive(key) {\n",
              "        const element = document.querySelector('#df-8ea8c659-ead6-4452-bee6-12d7bc931a2c');\n",
              "        const dataTable =\n",
              "          await google.colab.kernel.invokeFunction('convertToInteractive',\n",
              "                                                    [key], {});\n",
              "        if (!dataTable) return;\n",
              "\n",
              "        const docLinkHtml = 'Like what you see? Visit the ' +\n",
              "          '<a target=\"_blank\" href=https://colab.research.google.com/notebooks/data_table.ipynb>data table notebook</a>'\n",
              "          + ' to learn more about interactive tables.';\n",
              "        element.innerHTML = '';\n",
              "        dataTable['output_type'] = 'display_data';\n",
              "        await google.colab.output.renderOutput(dataTable, element);\n",
              "        const docLink = document.createElement('div');\n",
              "        docLink.innerHTML = docLinkHtml;\n",
              "        element.appendChild(docLink);\n",
              "      }\n",
              "    </script>\n",
              "  </div>\n",
              "\n",
              "\n",
              "<div id=\"df-3d84f301-089c-4420-90a8-8a64de793619\">\n",
              "  <button class=\"colab-df-quickchart\" onclick=\"quickchart('df-3d84f301-089c-4420-90a8-8a64de793619')\"\n",
              "            title=\"Suggest charts\"\n",
              "            style=\"display:none;\">\n",
              "\n",
              "<svg xmlns=\"http://www.w3.org/2000/svg\" height=\"24px\"viewBox=\"0 0 24 24\"\n",
              "     width=\"24px\">\n",
              "    <g>\n",
              "        <path d=\"M19 3H5c-1.1 0-2 .9-2 2v14c0 1.1.9 2 2 2h14c1.1 0 2-.9 2-2V5c0-1.1-.9-2-2-2zM9 17H7v-7h2v7zm4 0h-2V7h2v10zm4 0h-2v-4h2v4z\"/>\n",
              "    </g>\n",
              "</svg>\n",
              "  </button>\n",
              "\n",
              "<style>\n",
              "  .colab-df-quickchart {\n",
              "      --bg-color: #E8F0FE;\n",
              "      --fill-color: #1967D2;\n",
              "      --hover-bg-color: #E2EBFA;\n",
              "      --hover-fill-color: #174EA6;\n",
              "      --disabled-fill-color: #AAA;\n",
              "      --disabled-bg-color: #DDD;\n",
              "  }\n",
              "\n",
              "  [theme=dark] .colab-df-quickchart {\n",
              "      --bg-color: #3B4455;\n",
              "      --fill-color: #D2E3FC;\n",
              "      --hover-bg-color: #434B5C;\n",
              "      --hover-fill-color: #FFFFFF;\n",
              "      --disabled-bg-color: #3B4455;\n",
              "      --disabled-fill-color: #666;\n",
              "  }\n",
              "\n",
              "  .colab-df-quickchart {\n",
              "    background-color: var(--bg-color);\n",
              "    border: none;\n",
              "    border-radius: 50%;\n",
              "    cursor: pointer;\n",
              "    display: none;\n",
              "    fill: var(--fill-color);\n",
              "    height: 32px;\n",
              "    padding: 0;\n",
              "    width: 32px;\n",
              "  }\n",
              "\n",
              "  .colab-df-quickchart:hover {\n",
              "    background-color: var(--hover-bg-color);\n",
              "    box-shadow: 0 1px 2px rgba(60, 64, 67, 0.3), 0 1px 3px 1px rgba(60, 64, 67, 0.15);\n",
              "    fill: var(--button-hover-fill-color);\n",
              "  }\n",
              "\n",
              "  .colab-df-quickchart-complete:disabled,\n",
              "  .colab-df-quickchart-complete:disabled:hover {\n",
              "    background-color: var(--disabled-bg-color);\n",
              "    fill: var(--disabled-fill-color);\n",
              "    box-shadow: none;\n",
              "  }\n",
              "\n",
              "  .colab-df-spinner {\n",
              "    border: 2px solid var(--fill-color);\n",
              "    border-color: transparent;\n",
              "    border-bottom-color: var(--fill-color);\n",
              "    animation:\n",
              "      spin 1s steps(1) infinite;\n",
              "  }\n",
              "\n",
              "  @keyframes spin {\n",
              "    0% {\n",
              "      border-color: transparent;\n",
              "      border-bottom-color: var(--fill-color);\n",
              "      border-left-color: var(--fill-color);\n",
              "    }\n",
              "    20% {\n",
              "      border-color: transparent;\n",
              "      border-left-color: var(--fill-color);\n",
              "      border-top-color: var(--fill-color);\n",
              "    }\n",
              "    30% {\n",
              "      border-color: transparent;\n",
              "      border-left-color: var(--fill-color);\n",
              "      border-top-color: var(--fill-color);\n",
              "      border-right-color: var(--fill-color);\n",
              "    }\n",
              "    40% {\n",
              "      border-color: transparent;\n",
              "      border-right-color: var(--fill-color);\n",
              "      border-top-color: var(--fill-color);\n",
              "    }\n",
              "    60% {\n",
              "      border-color: transparent;\n",
              "      border-right-color: var(--fill-color);\n",
              "    }\n",
              "    80% {\n",
              "      border-color: transparent;\n",
              "      border-right-color: var(--fill-color);\n",
              "      border-bottom-color: var(--fill-color);\n",
              "    }\n",
              "    90% {\n",
              "      border-color: transparent;\n",
              "      border-bottom-color: var(--fill-color);\n",
              "    }\n",
              "  }\n",
              "</style>\n",
              "\n",
              "  <script>\n",
              "    async function quickchart(key) {\n",
              "      const quickchartButtonEl =\n",
              "        document.querySelector('#' + key + ' button');\n",
              "      quickchartButtonEl.disabled = true;  // To prevent multiple clicks.\n",
              "      quickchartButtonEl.classList.add('colab-df-spinner');\n",
              "      try {\n",
              "        const charts = await google.colab.kernel.invokeFunction(\n",
              "            'suggestCharts', [key], {});\n",
              "      } catch (error) {\n",
              "        console.error('Error during call to suggestCharts:', error);\n",
              "      }\n",
              "      quickchartButtonEl.classList.remove('colab-df-spinner');\n",
              "      quickchartButtonEl.classList.add('colab-df-quickchart-complete');\n",
              "    }\n",
              "    (() => {\n",
              "      let quickchartButtonEl =\n",
              "        document.querySelector('#df-3d84f301-089c-4420-90a8-8a64de793619 button');\n",
              "      quickchartButtonEl.style.display =\n",
              "        google.colab.kernel.accessAllowed ? 'block' : 'none';\n",
              "    })();\n",
              "  </script>\n",
              "</div>\n",
              "\n",
              "    </div>\n",
              "  </div>\n"
            ]
          },
          "metadata": {},
          "execution_count": 12
        }
      ]
    },
    {
      "cell_type": "code",
      "source": [
        "df_embeddings.shape"
      ],
      "metadata": {
        "colab": {
          "base_uri": "https://localhost:8080/"
        },
        "id": "nN87xTXZgEem",
        "outputId": "fe8914f1-9831-49e4-9684-4f4dfb38b0df"
      },
      "execution_count": null,
      "outputs": [
        {
          "output_type": "execute_result",
          "data": {
            "text/plain": [
              "(413, 300)"
            ]
          },
          "metadata": {},
          "execution_count": 13
        }
      ]
    },
    {
      "cell_type": "code",
      "source": [
        "df_embeddings['label'] = df['label']"
      ],
      "metadata": {
        "id": "Gk37XzhkgN6J"
      },
      "execution_count": null,
      "outputs": []
    },
    {
      "cell_type": "code",
      "source": [
        "df_embeddings.shape"
      ],
      "metadata": {
        "colab": {
          "base_uri": "https://localhost:8080/"
        },
        "id": "oaST5W7Hpp4X",
        "outputId": "367bf393-9990-4601-eb72-3a79b7ea3825"
      },
      "execution_count": null,
      "outputs": [
        {
          "output_type": "execute_result",
          "data": {
            "text/plain": [
              "(413, 301)"
            ]
          },
          "metadata": {},
          "execution_count": 15
        }
      ]
    },
    {
      "cell_type": "code",
      "source": [
        "df_embeddings.isnull().sum()"
      ],
      "metadata": {
        "colab": {
          "base_uri": "https://localhost:8080/"
        },
        "id": "cOZcEUKyrvzw",
        "outputId": "da43d2fb-3f28-42de-f41b-069f1e27b846"
      },
      "execution_count": null,
      "outputs": [
        {
          "output_type": "execute_result",
          "data": {
            "text/plain": [
              "0        0\n",
              "1        0\n",
              "2        0\n",
              "3        0\n",
              "4        0\n",
              "        ..\n",
              "296      0\n",
              "297      0\n",
              "298      0\n",
              "299      0\n",
              "label    0\n",
              "Length: 301, dtype: int64"
            ]
          },
          "metadata": {},
          "execution_count": 16
        }
      ]
    },
    {
      "cell_type": "code",
      "source": [
        "df_embeddings.to_csv('transformed_data.csv', index = False)"
      ],
      "metadata": {
        "id": "oBu7RdNoprm2"
      },
      "execution_count": null,
      "outputs": []
    },
    {
      "cell_type": "code",
      "source": [
        "X = np.array(df_embeddings.drop('label', axis= 1))\n",
        "y = np.array(df_embeddings['label'])\n",
        "X_train, X_test, y_train, y_test = train_test_split(X, y, test_size= 0.2, random_state= 42, shuffle= True)"
      ],
      "metadata": {
        "id": "uh04FyyNqcRE"
      },
      "execution_count": null,
      "outputs": []
    },
    {
      "cell_type": "code",
      "source": [
        "y_train.shape"
      ],
      "metadata": {
        "colab": {
          "base_uri": "https://localhost:8080/"
        },
        "id": "wADnu5D7q5kn",
        "outputId": "a3399185-3f18-4393-8fa6-50e5df3c4b9e"
      },
      "execution_count": null,
      "outputs": [
        {
          "output_type": "execute_result",
          "data": {
            "text/plain": [
              "(330,)"
            ]
          },
          "metadata": {},
          "execution_count": 19
        }
      ]
    },
    {
      "cell_type": "code",
      "source": [
        "label_encoder = LabelEncoder()\n",
        "y_train_encoded = label_encoder.fit_transform(y_train)\n",
        "y_test_encoded = label_encoder.transform(y_test)"
      ],
      "metadata": {
        "id": "HUg3JHWhsD50"
      },
      "execution_count": null,
      "outputs": []
    },
    {
      "cell_type": "code",
      "source": [
        "lr_clf = LogisticRegression(random_state=42)\n",
        "lr_clf.fit(X_train, y_train_encoded)\n",
        "dt_clf = DecisionTreeClassifier(random_state=42)\n",
        "dt_clf.fit(X_train, y_train_encoded)\n",
        "rf_clf = RandomForestClassifier(n_estimators=100, random_state=42)\n",
        "rf_clf.fit(X_train, y_train_encoded)\n",
        "sgd_clf = SGDClassifier(random_state=42)\n",
        "sgd_clf.fit(X_train, y_train_encoded)\n",
        "svm_clf = SVC(kernel='linear', C=1.0, random_state=42)\n",
        "svm_clf.fit(X_train, y_train_encoded)\n",
        "xgb_clf = xgb.XGBClassifier(objective='binary:logistic', random_state=42)\n",
        "xgb_clf.fit(X_train, y_train)"
      ],
      "metadata": {
        "colab": {
          "base_uri": "https://localhost:8080/",
          "height": 248
        },
        "id": "zWxPsT6KrQcG",
        "outputId": "ed8bd156-58a3-4115-ea85-5b413f975ea7"
      },
      "execution_count": null,
      "outputs": [
        {
          "output_type": "execute_result",
          "data": {
            "text/plain": [
              "XGBClassifier(base_score=None, booster=None, callbacks=None,\n",
              "              colsample_bylevel=None, colsample_bynode=None,\n",
              "              colsample_bytree=None, device=None, early_stopping_rounds=None,\n",
              "              enable_categorical=False, eval_metric=None, feature_types=None,\n",
              "              gamma=None, grow_policy=None, importance_type=None,\n",
              "              interaction_constraints=None, learning_rate=None, max_bin=None,\n",
              "              max_cat_threshold=None, max_cat_to_onehot=None,\n",
              "              max_delta_step=None, max_depth=None, max_leaves=None,\n",
              "              min_child_weight=None, missing=nan, monotone_constraints=None,\n",
              "              multi_strategy=None, n_estimators=None, n_jobs=None,\n",
              "              num_parallel_tree=None, random_state=42, ...)"
            ],
            "text/html": [
              "<style>#sk-container-id-1 {color: black;background-color: white;}#sk-container-id-1 pre{padding: 0;}#sk-container-id-1 div.sk-toggleable {background-color: white;}#sk-container-id-1 label.sk-toggleable__label {cursor: pointer;display: block;width: 100%;margin-bottom: 0;padding: 0.3em;box-sizing: border-box;text-align: center;}#sk-container-id-1 label.sk-toggleable__label-arrow:before {content: \"▸\";float: left;margin-right: 0.25em;color: #696969;}#sk-container-id-1 label.sk-toggleable__label-arrow:hover:before {color: black;}#sk-container-id-1 div.sk-estimator:hover label.sk-toggleable__label-arrow:before {color: black;}#sk-container-id-1 div.sk-toggleable__content {max-height: 0;max-width: 0;overflow: hidden;text-align: left;background-color: #f0f8ff;}#sk-container-id-1 div.sk-toggleable__content pre {margin: 0.2em;color: black;border-radius: 0.25em;background-color: #f0f8ff;}#sk-container-id-1 input.sk-toggleable__control:checked~div.sk-toggleable__content {max-height: 200px;max-width: 100%;overflow: auto;}#sk-container-id-1 input.sk-toggleable__control:checked~label.sk-toggleable__label-arrow:before {content: \"▾\";}#sk-container-id-1 div.sk-estimator input.sk-toggleable__control:checked~label.sk-toggleable__label {background-color: #d4ebff;}#sk-container-id-1 div.sk-label input.sk-toggleable__control:checked~label.sk-toggleable__label {background-color: #d4ebff;}#sk-container-id-1 input.sk-hidden--visually {border: 0;clip: rect(1px 1px 1px 1px);clip: rect(1px, 1px, 1px, 1px);height: 1px;margin: -1px;overflow: hidden;padding: 0;position: absolute;width: 1px;}#sk-container-id-1 div.sk-estimator {font-family: monospace;background-color: #f0f8ff;border: 1px dotted black;border-radius: 0.25em;box-sizing: border-box;margin-bottom: 0.5em;}#sk-container-id-1 div.sk-estimator:hover {background-color: #d4ebff;}#sk-container-id-1 div.sk-parallel-item::after {content: \"\";width: 100%;border-bottom: 1px solid gray;flex-grow: 1;}#sk-container-id-1 div.sk-label:hover label.sk-toggleable__label {background-color: #d4ebff;}#sk-container-id-1 div.sk-serial::before {content: \"\";position: absolute;border-left: 1px solid gray;box-sizing: border-box;top: 0;bottom: 0;left: 50%;z-index: 0;}#sk-container-id-1 div.sk-serial {display: flex;flex-direction: column;align-items: center;background-color: white;padding-right: 0.2em;padding-left: 0.2em;position: relative;}#sk-container-id-1 div.sk-item {position: relative;z-index: 1;}#sk-container-id-1 div.sk-parallel {display: flex;align-items: stretch;justify-content: center;background-color: white;position: relative;}#sk-container-id-1 div.sk-item::before, #sk-container-id-1 div.sk-parallel-item::before {content: \"\";position: absolute;border-left: 1px solid gray;box-sizing: border-box;top: 0;bottom: 0;left: 50%;z-index: -1;}#sk-container-id-1 div.sk-parallel-item {display: flex;flex-direction: column;z-index: 1;position: relative;background-color: white;}#sk-container-id-1 div.sk-parallel-item:first-child::after {align-self: flex-end;width: 50%;}#sk-container-id-1 div.sk-parallel-item:last-child::after {align-self: flex-start;width: 50%;}#sk-container-id-1 div.sk-parallel-item:only-child::after {width: 0;}#sk-container-id-1 div.sk-dashed-wrapped {border: 1px dashed gray;margin: 0 0.4em 0.5em 0.4em;box-sizing: border-box;padding-bottom: 0.4em;background-color: white;}#sk-container-id-1 div.sk-label label {font-family: monospace;font-weight: bold;display: inline-block;line-height: 1.2em;}#sk-container-id-1 div.sk-label-container {text-align: center;}#sk-container-id-1 div.sk-container {/* jupyter's `normalize.less` sets `[hidden] { display: none; }` but bootstrap.min.css set `[hidden] { display: none !important; }` so we also need the `!important` here to be able to override the default hidden behavior on the sphinx rendered scikit-learn.org. See: https://github.com/scikit-learn/scikit-learn/issues/21755 */display: inline-block !important;position: relative;}#sk-container-id-1 div.sk-text-repr-fallback {display: none;}</style><div id=\"sk-container-id-1\" class=\"sk-top-container\"><div class=\"sk-text-repr-fallback\"><pre>XGBClassifier(base_score=None, booster=None, callbacks=None,\n",
              "              colsample_bylevel=None, colsample_bynode=None,\n",
              "              colsample_bytree=None, device=None, early_stopping_rounds=None,\n",
              "              enable_categorical=False, eval_metric=None, feature_types=None,\n",
              "              gamma=None, grow_policy=None, importance_type=None,\n",
              "              interaction_constraints=None, learning_rate=None, max_bin=None,\n",
              "              max_cat_threshold=None, max_cat_to_onehot=None,\n",
              "              max_delta_step=None, max_depth=None, max_leaves=None,\n",
              "              min_child_weight=None, missing=nan, monotone_constraints=None,\n",
              "              multi_strategy=None, n_estimators=None, n_jobs=None,\n",
              "              num_parallel_tree=None, random_state=42, ...)</pre><b>In a Jupyter environment, please rerun this cell to show the HTML representation or trust the notebook. <br />On GitHub, the HTML representation is unable to render, please try loading this page with nbviewer.org.</b></div><div class=\"sk-container\" hidden><div class=\"sk-item\"><div class=\"sk-estimator sk-toggleable\"><input class=\"sk-toggleable__control sk-hidden--visually\" id=\"sk-estimator-id-1\" type=\"checkbox\" checked><label for=\"sk-estimator-id-1\" class=\"sk-toggleable__label sk-toggleable__label-arrow\">XGBClassifier</label><div class=\"sk-toggleable__content\"><pre>XGBClassifier(base_score=None, booster=None, callbacks=None,\n",
              "              colsample_bylevel=None, colsample_bynode=None,\n",
              "              colsample_bytree=None, device=None, early_stopping_rounds=None,\n",
              "              enable_categorical=False, eval_metric=None, feature_types=None,\n",
              "              gamma=None, grow_policy=None, importance_type=None,\n",
              "              interaction_constraints=None, learning_rate=None, max_bin=None,\n",
              "              max_cat_threshold=None, max_cat_to_onehot=None,\n",
              "              max_delta_step=None, max_depth=None, max_leaves=None,\n",
              "              min_child_weight=None, missing=nan, monotone_constraints=None,\n",
              "              multi_strategy=None, n_estimators=None, n_jobs=None,\n",
              "              num_parallel_tree=None, random_state=42, ...)</pre></div></div></div></div></div>"
            ]
          },
          "metadata": {},
          "execution_count": 21
        }
      ]
    },
    {
      "cell_type": "code",
      "source": [
        "from sklearn.model_selection import cross_val_score\n",
        "cross_val_score(sgd_clf, X_train, y_train_encoded, cv=3, scoring=\"accuracy\")"
      ],
      "metadata": {
        "colab": {
          "base_uri": "https://localhost:8080/"
        },
        "id": "BoLUN-H7tazC",
        "outputId": "79b18bbf-b95e-4e62-d456-3767744b29dd"
      },
      "execution_count": null,
      "outputs": [
        {
          "output_type": "execute_result",
          "data": {
            "text/plain": [
              "array([0.81818182, 0.80909091, 0.84545455])"
            ]
          },
          "metadata": {},
          "execution_count": 22
        }
      ]
    },
    {
      "cell_type": "code",
      "source": [
        "y_train_pred = cross_val_predict(xgb_clf, X_train, y_train_encoded, cv=3)"
      ],
      "metadata": {
        "id": "UOeCyib631Jy"
      },
      "execution_count": null,
      "outputs": []
    },
    {
      "cell_type": "code",
      "source": [
        "print(confusion_matrix(y_train_encoded, y_train_pred))\n",
        "print(precision_score(y_train_encoded, y_train_pred))\n",
        "print(recall_score(y_train_encoded, y_train_pred))\n",
        "print(f1_score(y_train_encoded, y_train_pred))"
      ],
      "metadata": {
        "colab": {
          "base_uri": "https://localhost:8080/"
        },
        "id": "DCn-vKiSzHRq",
        "outputId": "b418bdeb-51e1-477c-d86f-54e213117e9d"
      },
      "execution_count": null,
      "outputs": [
        {
          "output_type": "stream",
          "name": "stdout",
          "text": [
            "[[253  16]\n",
            " [ 44  17]]\n",
            "0.5151515151515151\n",
            "0.2786885245901639\n",
            "0.36170212765957444\n"
          ]
        }
      ]
    },
    {
      "cell_type": "code",
      "source": [
        "roc_auc_score(y_train_encoded, y_train_pred)"
      ],
      "metadata": {
        "colab": {
          "base_uri": "https://localhost:8080/"
        },
        "id": "LruYrYEhxTd-",
        "outputId": "01af1628-e4c6-436e-ea15-69804382a248"
      },
      "execution_count": null,
      "outputs": [
        {
          "output_type": "execute_result",
          "data": {
            "text/plain": [
              "0.6096044853434092"
            ]
          },
          "metadata": {},
          "execution_count": 25
        }
      ]
    },
    {
      "cell_type": "markdown",
      "source": [
        "-----------------------------------------------------------------------------------------------------------------------------"
      ],
      "metadata": {
        "id": "-yhFLdQ4510r"
      }
    },
    {
      "cell_type": "code",
      "source": [
        "df.head()"
      ],
      "metadata": {
        "colab": {
          "base_uri": "https://localhost:8080/",
          "height": 206
        },
        "id": "pGfILgr256lC",
        "outputId": "616e90f7-842a-4ec7-8ba6-8dbadf876c75"
      },
      "execution_count": null,
      "outputs": [
        {
          "output_type": "execute_result",
          "data": {
            "text/plain": [
              "  district_name label\n",
              "0     ابو الريش     0\n",
              "1      ابو سمبل     0\n",
              "2          ادفو     0\n",
              "3      البصيلية     0\n",
              "4      الرديسية     0"
            ],
            "text/html": [
              "\n",
              "  <div id=\"df-89999281-d33a-440b-80f1-4f0afcb7ed7a\" class=\"colab-df-container\">\n",
              "    <div>\n",
              "<style scoped>\n",
              "    .dataframe tbody tr th:only-of-type {\n",
              "        vertical-align: middle;\n",
              "    }\n",
              "\n",
              "    .dataframe tbody tr th {\n",
              "        vertical-align: top;\n",
              "    }\n",
              "\n",
              "    .dataframe thead th {\n",
              "        text-align: right;\n",
              "    }\n",
              "</style>\n",
              "<table border=\"1\" class=\"dataframe\">\n",
              "  <thead>\n",
              "    <tr style=\"text-align: right;\">\n",
              "      <th></th>\n",
              "      <th>district_name</th>\n",
              "      <th>label</th>\n",
              "    </tr>\n",
              "  </thead>\n",
              "  <tbody>\n",
              "    <tr>\n",
              "      <th>0</th>\n",
              "      <td>ابو الريش</td>\n",
              "      <td>0</td>\n",
              "    </tr>\n",
              "    <tr>\n",
              "      <th>1</th>\n",
              "      <td>ابو سمبل</td>\n",
              "      <td>0</td>\n",
              "    </tr>\n",
              "    <tr>\n",
              "      <th>2</th>\n",
              "      <td>ادفو</td>\n",
              "      <td>0</td>\n",
              "    </tr>\n",
              "    <tr>\n",
              "      <th>3</th>\n",
              "      <td>البصيلية</td>\n",
              "      <td>0</td>\n",
              "    </tr>\n",
              "    <tr>\n",
              "      <th>4</th>\n",
              "      <td>الرديسية</td>\n",
              "      <td>0</td>\n",
              "    </tr>\n",
              "  </tbody>\n",
              "</table>\n",
              "</div>\n",
              "    <div class=\"colab-df-buttons\">\n",
              "\n",
              "  <div class=\"colab-df-container\">\n",
              "    <button class=\"colab-df-convert\" onclick=\"convertToInteractive('df-89999281-d33a-440b-80f1-4f0afcb7ed7a')\"\n",
              "            title=\"Convert this dataframe to an interactive table.\"\n",
              "            style=\"display:none;\">\n",
              "\n",
              "  <svg xmlns=\"http://www.w3.org/2000/svg\" height=\"24px\" viewBox=\"0 -960 960 960\">\n",
              "    <path d=\"M120-120v-720h720v720H120Zm60-500h600v-160H180v160Zm220 220h160v-160H400v160Zm0 220h160v-160H400v160ZM180-400h160v-160H180v160Zm440 0h160v-160H620v160ZM180-180h160v-160H180v160Zm440 0h160v-160H620v160Z\"/>\n",
              "  </svg>\n",
              "    </button>\n",
              "\n",
              "  <style>\n",
              "    .colab-df-container {\n",
              "      display:flex;\n",
              "      gap: 12px;\n",
              "    }\n",
              "\n",
              "    .colab-df-convert {\n",
              "      background-color: #E8F0FE;\n",
              "      border: none;\n",
              "      border-radius: 50%;\n",
              "      cursor: pointer;\n",
              "      display: none;\n",
              "      fill: #1967D2;\n",
              "      height: 32px;\n",
              "      padding: 0 0 0 0;\n",
              "      width: 32px;\n",
              "    }\n",
              "\n",
              "    .colab-df-convert:hover {\n",
              "      background-color: #E2EBFA;\n",
              "      box-shadow: 0px 1px 2px rgba(60, 64, 67, 0.3), 0px 1px 3px 1px rgba(60, 64, 67, 0.15);\n",
              "      fill: #174EA6;\n",
              "    }\n",
              "\n",
              "    .colab-df-buttons div {\n",
              "      margin-bottom: 4px;\n",
              "    }\n",
              "\n",
              "    [theme=dark] .colab-df-convert {\n",
              "      background-color: #3B4455;\n",
              "      fill: #D2E3FC;\n",
              "    }\n",
              "\n",
              "    [theme=dark] .colab-df-convert:hover {\n",
              "      background-color: #434B5C;\n",
              "      box-shadow: 0px 1px 3px 1px rgba(0, 0, 0, 0.15);\n",
              "      filter: drop-shadow(0px 1px 2px rgba(0, 0, 0, 0.3));\n",
              "      fill: #FFFFFF;\n",
              "    }\n",
              "  </style>\n",
              "\n",
              "    <script>\n",
              "      const buttonEl =\n",
              "        document.querySelector('#df-89999281-d33a-440b-80f1-4f0afcb7ed7a button.colab-df-convert');\n",
              "      buttonEl.style.display =\n",
              "        google.colab.kernel.accessAllowed ? 'block' : 'none';\n",
              "\n",
              "      async function convertToInteractive(key) {\n",
              "        const element = document.querySelector('#df-89999281-d33a-440b-80f1-4f0afcb7ed7a');\n",
              "        const dataTable =\n",
              "          await google.colab.kernel.invokeFunction('convertToInteractive',\n",
              "                                                    [key], {});\n",
              "        if (!dataTable) return;\n",
              "\n",
              "        const docLinkHtml = 'Like what you see? Visit the ' +\n",
              "          '<a target=\"_blank\" href=https://colab.research.google.com/notebooks/data_table.ipynb>data table notebook</a>'\n",
              "          + ' to learn more about interactive tables.';\n",
              "        element.innerHTML = '';\n",
              "        dataTable['output_type'] = 'display_data';\n",
              "        await google.colab.output.renderOutput(dataTable, element);\n",
              "        const docLink = document.createElement('div');\n",
              "        docLink.innerHTML = docLinkHtml;\n",
              "        element.appendChild(docLink);\n",
              "      }\n",
              "    </script>\n",
              "  </div>\n",
              "\n",
              "\n",
              "<div id=\"df-cd1ae6fc-462d-4c1a-b91c-8523f0802c32\">\n",
              "  <button class=\"colab-df-quickchart\" onclick=\"quickchart('df-cd1ae6fc-462d-4c1a-b91c-8523f0802c32')\"\n",
              "            title=\"Suggest charts\"\n",
              "            style=\"display:none;\">\n",
              "\n",
              "<svg xmlns=\"http://www.w3.org/2000/svg\" height=\"24px\"viewBox=\"0 0 24 24\"\n",
              "     width=\"24px\">\n",
              "    <g>\n",
              "        <path d=\"M19 3H5c-1.1 0-2 .9-2 2v14c0 1.1.9 2 2 2h14c1.1 0 2-.9 2-2V5c0-1.1-.9-2-2-2zM9 17H7v-7h2v7zm4 0h-2V7h2v10zm4 0h-2v-4h2v4z\"/>\n",
              "    </g>\n",
              "</svg>\n",
              "  </button>\n",
              "\n",
              "<style>\n",
              "  .colab-df-quickchart {\n",
              "      --bg-color: #E8F0FE;\n",
              "      --fill-color: #1967D2;\n",
              "      --hover-bg-color: #E2EBFA;\n",
              "      --hover-fill-color: #174EA6;\n",
              "      --disabled-fill-color: #AAA;\n",
              "      --disabled-bg-color: #DDD;\n",
              "  }\n",
              "\n",
              "  [theme=dark] .colab-df-quickchart {\n",
              "      --bg-color: #3B4455;\n",
              "      --fill-color: #D2E3FC;\n",
              "      --hover-bg-color: #434B5C;\n",
              "      --hover-fill-color: #FFFFFF;\n",
              "      --disabled-bg-color: #3B4455;\n",
              "      --disabled-fill-color: #666;\n",
              "  }\n",
              "\n",
              "  .colab-df-quickchart {\n",
              "    background-color: var(--bg-color);\n",
              "    border: none;\n",
              "    border-radius: 50%;\n",
              "    cursor: pointer;\n",
              "    display: none;\n",
              "    fill: var(--fill-color);\n",
              "    height: 32px;\n",
              "    padding: 0;\n",
              "    width: 32px;\n",
              "  }\n",
              "\n",
              "  .colab-df-quickchart:hover {\n",
              "    background-color: var(--hover-bg-color);\n",
              "    box-shadow: 0 1px 2px rgba(60, 64, 67, 0.3), 0 1px 3px 1px rgba(60, 64, 67, 0.15);\n",
              "    fill: var(--button-hover-fill-color);\n",
              "  }\n",
              "\n",
              "  .colab-df-quickchart-complete:disabled,\n",
              "  .colab-df-quickchart-complete:disabled:hover {\n",
              "    background-color: var(--disabled-bg-color);\n",
              "    fill: var(--disabled-fill-color);\n",
              "    box-shadow: none;\n",
              "  }\n",
              "\n",
              "  .colab-df-spinner {\n",
              "    border: 2px solid var(--fill-color);\n",
              "    border-color: transparent;\n",
              "    border-bottom-color: var(--fill-color);\n",
              "    animation:\n",
              "      spin 1s steps(1) infinite;\n",
              "  }\n",
              "\n",
              "  @keyframes spin {\n",
              "    0% {\n",
              "      border-color: transparent;\n",
              "      border-bottom-color: var(--fill-color);\n",
              "      border-left-color: var(--fill-color);\n",
              "    }\n",
              "    20% {\n",
              "      border-color: transparent;\n",
              "      border-left-color: var(--fill-color);\n",
              "      border-top-color: var(--fill-color);\n",
              "    }\n",
              "    30% {\n",
              "      border-color: transparent;\n",
              "      border-left-color: var(--fill-color);\n",
              "      border-top-color: var(--fill-color);\n",
              "      border-right-color: var(--fill-color);\n",
              "    }\n",
              "    40% {\n",
              "      border-color: transparent;\n",
              "      border-right-color: var(--fill-color);\n",
              "      border-top-color: var(--fill-color);\n",
              "    }\n",
              "    60% {\n",
              "      border-color: transparent;\n",
              "      border-right-color: var(--fill-color);\n",
              "    }\n",
              "    80% {\n",
              "      border-color: transparent;\n",
              "      border-right-color: var(--fill-color);\n",
              "      border-bottom-color: var(--fill-color);\n",
              "    }\n",
              "    90% {\n",
              "      border-color: transparent;\n",
              "      border-bottom-color: var(--fill-color);\n",
              "    }\n",
              "  }\n",
              "</style>\n",
              "\n",
              "  <script>\n",
              "    async function quickchart(key) {\n",
              "      const quickchartButtonEl =\n",
              "        document.querySelector('#' + key + ' button');\n",
              "      quickchartButtonEl.disabled = true;  // To prevent multiple clicks.\n",
              "      quickchartButtonEl.classList.add('colab-df-spinner');\n",
              "      try {\n",
              "        const charts = await google.colab.kernel.invokeFunction(\n",
              "            'suggestCharts', [key], {});\n",
              "      } catch (error) {\n",
              "        console.error('Error during call to suggestCharts:', error);\n",
              "      }\n",
              "      quickchartButtonEl.classList.remove('colab-df-spinner');\n",
              "      quickchartButtonEl.classList.add('colab-df-quickchart-complete');\n",
              "    }\n",
              "    (() => {\n",
              "      let quickchartButtonEl =\n",
              "        document.querySelector('#df-cd1ae6fc-462d-4c1a-b91c-8523f0802c32 button');\n",
              "      quickchartButtonEl.style.display =\n",
              "        google.colab.kernel.accessAllowed ? 'block' : 'none';\n",
              "    })();\n",
              "  </script>\n",
              "</div>\n",
              "\n",
              "    </div>\n",
              "  </div>\n"
            ]
          },
          "metadata": {},
          "execution_count": 26
        }
      ]
    },
    {
      "cell_type": "code",
      "source": [
        "import tensorflow as tf\n",
        "print(tf. __version__)\n",
        "from tensorflow.keras.models import Sequential\n",
        "from tensorflow.keras.layers import Embedding, LSTM, Dense\n",
        "from tensorflow.keras.preprocessing.sequence import pad_sequences\n",
        "from tensorflow.keras.preprocessing.text import Tokenizer\n",
        "from tensorflow.keras.layers import GRU\n",
        "from sklearn.preprocessing import LabelEncoder\n",
        "from tensorflow.keras.layers import Bidirectional, SimpleRNN\n",
        "from tensorflow.keras.callbacks import EarlyStopping"
      ],
      "metadata": {
        "id": "1-g_-uld9g61",
        "colab": {
          "base_uri": "https://localhost:8080/"
        },
        "outputId": "c9276a8e-c168-4127-9a63-c489d4b36a04"
      },
      "execution_count": null,
      "outputs": [
        {
          "output_type": "stream",
          "name": "stdout",
          "text": [
            "2.15.0\n"
          ]
        }
      ]
    },
    {
      "cell_type": "code",
      "source": [
        "text_data = ' '.join(df['district_name'])\n",
        "tokens = word_tokenize(text_data)\n",
        "unique_words = set(tokens)\n",
        "vocab_size = len(unique_words) +1\n",
        "print(vocab_size)\n",
        "print(unique_words)"
      ],
      "metadata": {
        "colab": {
          "base_uri": "https://localhost:8080/"
        },
        "id": "XUNWY97G-Zml",
        "outputId": "32b2f900-c439-48cb-942a-759e1ce18cb6"
      },
      "execution_count": null,
      "outputs": [
        {
          "output_type": "stream",
          "name": "stdout",
          "text": [
            "456\n",
            "{'القناطر', 'الكبرى', 'ناهيا', 'قصر', 'الجناين', 'إمبابة', 'وسط', 'الصديق', 'الاول', 'المطرية', 'الواسطي', 'المنشاة', 'مشتول', 'مدينه', 'مركز', 'صقر', 'ساقتلة', 'الخارجة', 'القنايات', 'زهراء', 'ستيفانو', 'الفشن', 'تلات', 'المنصورة', 'الحامول', 'البصيلية', 'كوم', 'الوايلي', 'زفتى', 'بهتيم', 'مطوبس', 'العين', 'فاقوس', 'الضواحي', 'مارينا', 'إسنا', 'جابر', 'الزرقا', 'قرقاص', 'إهناسيا', 'الجنوب', 'الخليفة', 'موط', 'التل', 'سمالوط', 'زيزينيا', 'بركة', 'النصر', 'كات', 'أكتوبر', 'بسيون', 'المنيا', 'سهل', 'روض', 'الدكرور', 'أجا', 'زويد', 'بولكي', 'السوق', 'قليوب', 'السبع', 'زنيمة', 'عقبة', 'سيدي', 'النوبارية', 'مايو', 'المنتزة', '6', 'الساحل', 'الطود', 'الترابين', 'مغاغة', 'طهطا', 'شيزار', 'العاصمة', 'قنا', 'فيكتوريا', 'حمص', 'جزيرة', 'قلين', 'المرج', 'بلقاس', 'الإسماعيلية', 'العمرانية', 'رمسيس', 'الرياض', 'جهينة', 'العباسية', 'نصر', 'بلبيس', 'عائشة', 'رفح', 'برج', 'رواش', 'بئر', 'الرديسية', 'شبرا', 'الرحمانية', 'فايد', 'منشأة', 'غارب', 'بني', 'براني', 'طامية', 'دراو', 'قطور', 'جليم', 'العوايد', 'البرلس', 'منيا', 'الجيزة', 'النطرون', 'مزار', 'الحمام', 'عبدو', 'غرب', 'غالب', 'تشت', 'محرم', 'فيصل', 'سمنود', 'العرب', 'الخانكة', 'المكس', 'أول', 'أبو', 'الحوامدية', 'الورديان', 'السيدة', 'اللواء', 'أرمنت', 'الزيتون', 'حشيش', 'أطسا', 'امبو', 'التجمع', 'أولاد', 'العبور', 'الفرج', 'شرم', 'لوران', 'من', 'طما', 'كليوباترا', 'قفط', 'مرسى', 'الوايلى', 'الظاهرية', 'كحيل', 'العلمين', 'الداخلة', 'سفاجا', 'الدقي', 'منوف', 'مصر', 'حي', 'الخصوص', 'الكوم', 'النجيلة', 'الدرب', 'فلمنج', 'شنا', 'الابراهيمية', 'النخيل', 'النخل', 'العز', 'المعادى', 'السنطة', 'سوهاج', 'العسيرات', 'العطارين', 'التبين', 'القطامية', 'جرجا', 'الجمالية', 'الحضرة', 'المعمورة', 'المنيب', 'الشروق', 'ساحل', 'العريش', 'ديروط', 'باشا', 'الجديده', 'الزاوية', 'سعيد', 'الغنايم', 'العياط', 'ببا', 'المنزلة', 'العاشر', 'قير', 'حمادي', 'عزبة', 'بلاط', 'زينب', 'المعادي', 'زايد', 'ديرب', 'النواصرية', 'المطامير', 'القنطرة', 'بشتيل', 'مواس', 'مدينة', 'المحمودية', 'السلام', 'الباجور', 'عين', '15', 'ناصر', 'صدفا', 'شربين', 'سليم', 'العبد', 'دكرنس', 'الحلمية', 'المهندسين', 'القديمة', 'الغردقة', 'سيناء', 'القاهرة', 'ملوي', 'العدوة', 'خمسة', 'القمح', 'ابو', 'أخطاب', 'الحسنة', 'البر', 'صوير', 'سدر', 'الصف', 'منفوط', 'الجونة', 'حوش', 'مسير', 'سمسطا', 'الاحمر', 'الشمالي', 'الحمراء', 'تمى', 'قويسنا', 'شبين', 'سالم', 'الدوار', 'المندرة', 'الاميرية', 'البساتين', 'مطروح', 'سيوة', 'عيسى', 'العجمي', 'طور', 'الروضة', 'نقادة', 'العصافرة', 'رديس', 'سمبل', 'دهشور', 'الأربعين', 'كبير', 'الزيات', 'الشعرية', 'الكبير', 'وادي', 'أوسيم', 'قوص', 'بشر', 'رشيد', 'روكسي', 'السلوم', 'أشمون', 'ميامي', 'الدهب', 'دمنهور', 'الإبراهيمية', 'البلينا', 'حمادة', 'السخنة', 'زاوية', 'عتاقة', 'سلسيل', 'سفط', 'بولاق', 'مناخ', 'دمياط', 'سابا', 'العزيزية', 'طنطا', 'نخل', 'ابنوب', 'كفر', 'الشرابية', 'ميت', 'المقطم', 'عابدين', 'إيتاي', 'كاترين', 'إبشواي', 'يوسف', 'المحلة', 'عشر', 'كلابشة', 'سبورتج', 'الامديد', 'الجديدة', 'القبة', 'اسيوط', 'الرماية', 'السنبلاوي', 'نجم', 'بيلا', 'الازبكية', 'الهانوفيل', 'طوخ', 'باكوس', 'شمس', 'ستانلي', 'المنصورية', 'البياضية', 'الفيوم', 'الضبعة', 'الشهداء', 'حماد', 'بلطيم', 'المريوطية', 'دهب', 'فؤاد', 'الخامس', 'اسوان', 'العجوزة', 'بنها', 'شلاتين', 'القصير', 'ثالث', 'باريس', 'ادفو', 'السادات', 'سوميد', 'رمضان', 'الكيت', 'شدس', 'سنورس', 'باب', 'سرس', 'الزهور', 'دير', 'الخيمة', 'النجار', 'تيج', 'السرايا', 'بنروه', 'الخيرية', 'تلا', 'العامرية', 'بحري', 'البارود', 'كامب', 'سعد', 'البرج', 'بور', 'القاهره', 'بك', 'الموسكي', 'سموحة', 'الهرم', 'القرنه', 'القرين', 'النيل', 'الريش', 'كرداسة', 'الصالحية', 'الإسكندرية', 'الأول', 'حلوان', 'السويس', 'طابا', 'رأس', 'دار', 'الباز', 'الموسكى', 'محطة', 'قها', 'اكتوبر', 'ثروت', 'حدائق', 'الزقازيق', 'غمر', 'ثان', 'الشيخ', 'سويف', 'أرض', 'طهرمس', 'المراغة', 'مدينتي', 'الرمل', 'نجع', 'سانت', 'السرو', 'مدنية', 'الشرق', 'فارسكور', 'الحسينية', 'المعصرة', 'ههيا', 'الادارية', 'السيوف', 'الرحاب', 'السباعية', 'رشدي', 'الظاهر', 'القصاصين', 'عبيد', 'الصحفيين', 'الوراق', 'الأقصر', 'صحاري', 'البداري', 'جمصة', 'الليان', 'البراجيل', 'الزمالك', 'برنيس', 'نويبع', 'حلايب', 'الفرافرة', 'أخميم', 'الجمرك', 'فوه', 'شرق', 'الوقف', 'النوبة', 'البدرشين', 'البطيخ', 'اللبان', 'القوصية', 'ترسا', 'فرشوط', 'سان', 'الدلنجات', 'الزينية', 'الفتح', 'النزهة', 'إدكو', 'طلخا', 'المنيل', 'مطاي', 'علم', 'دسوق', 'طره', 'شكر', 'بدر', 'شبراخيت', 'الأهرام'}\n"
          ]
        }
      ]
    },
    {
      "cell_type": "code",
      "source": [
        "max_length=-1\n",
        "sent = None\n",
        "for sentence in df['district_name']:\n",
        "  tokens = word_tokenize(sentence)\n",
        "  max_length = max(max_length, len(tokens))\n",
        "\n",
        "max_length"
      ],
      "metadata": {
        "colab": {
          "base_uri": "https://localhost:8080/"
        },
        "id": "RqtL9SJtDxJR",
        "outputId": "4ff5f31e-4b06-48d0-cb99-4cc901d4fad8"
      },
      "execution_count": null,
      "outputs": [
        {
          "output_type": "execute_result",
          "data": {
            "text/plain": [
              "3"
            ]
          },
          "metadata": {},
          "execution_count": 29
        }
      ]
    },
    {
      "cell_type": "code",
      "source": [
        "tokenizer = Tokenizer()\n",
        "tokenizer.fit_on_texts(df['district_name'])\n",
        "word_index = tokenizer.word_index\n",
        "sequences = tokenizer.texts_to_sequences(df['district_name'])\n",
        "padded_sequences = pad_sequences(sequences, maxlen=max_length, padding='post', truncating='post')"
      ],
      "metadata": {
        "id": "7t_S71xoBI5u"
      },
      "execution_count": null,
      "outputs": []
    },
    {
      "cell_type": "code",
      "source": [
        "padded_sequences[0]"
      ],
      "metadata": {
        "colab": {
          "base_uri": "https://localhost:8080/"
        },
        "id": "bzcL3ApMDnkv",
        "outputId": "5927aefb-1006-4ec3-e320-1c8752a09bd8"
      },
      "execution_count": null,
      "outputs": [
        {
          "output_type": "execute_result",
          "data": {
            "text/plain": [
              "array([22, 61,  0], dtype=int32)"
            ]
          },
          "metadata": {},
          "execution_count": 31
        }
      ]
    },
    {
      "cell_type": "code",
      "source": [
        "for i in range(len(df['district_name'])):\n",
        "    print(f\"Sequence: {sequences[i]}, Words: {[word for word, index in word_index.items() if index in sequences[i]]}\")"
      ],
      "metadata": {
        "colab": {
          "base_uri": "https://localhost:8080/"
        },
        "id": "_nNc37YnB7aw",
        "outputId": "ff0c75a6-b466-4aa9-b509-628050967fc0"
      },
      "execution_count": null,
      "outputs": [
        {
          "output_type": "stream",
          "name": "stdout",
          "text": [
            "Sequence: [22, 61], Words: ['ابو', 'الريش']\n",
            "Sequence: [22, 62], Words: ['ابو', 'سمبل']\n",
            "Sequence: [63], Words: ['ادفو']\n",
            "Sequence: [64], Words: ['البصيلية']\n",
            "Sequence: [65], Words: ['الرديسية']\n",
            "Sequence: [66], Words: ['السباعية']\n",
            "Sequence: [67], Words: ['دراو']\n",
            "Sequence: [68], Words: ['صحاري']\n",
            "Sequence: [69], Words: ['كلابشة']\n",
            "Sequence: [23, 70], Words: ['كوم', 'امبو']\n",
            "Sequence: [1, 71], Words: ['مدينة', 'اسوان']\n",
            "Sequence: [8, 72], Words: ['نصر', 'النوبة']\n",
            "Sequence: [2, 73], Words: ['أبو', 'تيج']\n",
            "Sequence: [74], Words: ['ابنوب']\n",
            "Sequence: [24, 4], Words: ['الجديدة', 'اسيوط']\n",
            "Sequence: [75], Words: ['البداري']\n",
            "Sequence: [76], Words: ['الغنايم']\n",
            "Sequence: [77], Words: ['الفتح']\n",
            "Sequence: [78], Words: ['القوصية']\n",
            "Sequence: [79], Words: ['ديروط']\n",
            "Sequence: [80, 81], Words: ['ساحل', 'سليم']\n",
            "Sequence: [82], Words: ['صدفا']\n",
            "Sequence: [1, 24], Words: ['مدينة', 'اسيوط']\n",
            "Sequence: [83], Words: ['منفوط']\n",
            "Sequence: [84], Words: ['أرمنت']\n",
            "Sequence: [85], Words: ['إسنا']\n",
            "Sequence: [86], Words: ['البياضية']\n",
            "Sequence: [87], Words: ['الزينية']\n",
            "Sequence: [88], Words: ['الطود']\n",
            "Sequence: [89], Words: ['القرنه']\n",
            "Sequence: [1, 90], Words: ['مدينة', 'الأقصر']\n",
            "Sequence: [2, 91], Words: ['أبو', 'تلات']\n",
            "Sequence: [2, 92], Words: ['أبو', 'قير']\n",
            "Sequence: [93], Words: ['الإسكندرية']\n",
            "Sequence: [94], Words: ['الابراهيمية']\n",
            "Sequence: [95], Words: ['الجمرك']\n",
            "Sequence: [96], Words: ['الحضرة']\n",
            "Sequence: [13, 25], Words: ['الساحل', 'الشمالي']\n",
            "Sequence: [97], Words: ['السرايا']\n",
            "Sequence: [98], Words: ['السيوف']\n",
            "Sequence: [99], Words: ['الظاهرية']\n",
            "Sequence: [100], Words: ['العامرية']\n",
            "Sequence: [101], Words: ['العجمي']\n",
            "Sequence: [102], Words: ['العصافرة']\n",
            "Sequence: [103], Words: ['العطارين']\n",
            "Sequence: [14], Words: ['العلمين']\n",
            "Sequence: [104], Words: ['العوايد']\n",
            "Sequence: [105], Words: ['اللبان']\n",
            "Sequence: [106], Words: ['المعمورة']\n",
            "Sequence: [107], Words: ['المكس']\n",
            "Sequence: [108], Words: ['المنتزة']\n",
            "Sequence: [109], Words: ['المندرة']\n",
            "Sequence: [110], Words: ['النخيل']\n",
            "Sequence: [26], Words: ['النزهة']\n",
            "Sequence: [111], Words: ['الهانوفيل']\n",
            "Sequence: [112], Words: ['الورديان']\n",
            "Sequence: [113], Words: ['باكوس']\n",
            "Sequence: [114], Words: ['بحري']\n",
            "Sequence: [115, 27], Words: ['العرب', 'برج']\n",
            "Sequence: [116], Words: ['بولكي']\n",
            "Sequence: [117], Words: ['ثروت']\n",
            "Sequence: [118], Words: ['جليم']\n",
            "Sequence: [119], Words: ['رشدي']\n",
            "Sequence: [120], Words: ['زيزينيا']\n",
            "Sequence: [121, 122], Words: ['سابا', 'باشا']\n",
            "Sequence: [123, 124], Words: ['سان', 'ستيفانو']\n",
            "Sequence: [125], Words: ['سبورتج']\n",
            "Sequence: [126], Words: ['ستانلي']\n",
            "Sequence: [127], Words: ['سموحة']\n",
            "Sequence: [9, 128], Words: ['سيدي', 'بشر']\n",
            "Sequence: [9, 129], Words: ['سيدي', 'جابر']\n",
            "Sequence: [130], Words: ['شدس']\n",
            "Sequence: [131], Words: ['فلمنج']\n",
            "Sequence: [132], Words: ['فيكتوريا']\n",
            "Sequence: [133, 134], Words: ['كامب', 'شيزار']\n",
            "Sequence: [5, 135], Words: ['كفر', 'عبدو']\n",
            "Sequence: [136], Words: ['كليوباترا']\n",
            "Sequence: [137], Words: ['لوران']\n",
            "Sequence: [138, 139], Words: ['محرم', 'بك']\n",
            "Sequence: [140, 141], Words: ['محطة', 'الرمل']\n",
            "Sequence: [142], Words: ['ميامي']\n",
            "Sequence: [2, 143], Words: ['أبو', 'صوير']\n",
            "Sequence: [144, 145], Words: ['التل', 'الكبير']\n",
            "Sequence: [146], Words: ['القصاصين']\n",
            "Sequence: [28, 147], Words: ['القنطرة', 'شرق']\n",
            "Sequence: [28, 148], Words: ['القنطرة', 'غرب']\n",
            "Sequence: [149], Words: ['فايد']\n",
            "Sequence: [1, 150], Words: ['مدينة', 'الإسماعيلية']\n",
            "Sequence: [151], Words: ['الجونة']\n",
            "Sequence: [152], Words: ['الغردقة']\n",
            "Sequence: [153], Words: ['القصير']\n",
            "Sequence: [154], Words: ['برنيس']\n",
            "Sequence: [15, 155], Words: ['رأس', 'غارب']\n",
            "Sequence: [156], Words: ['سفاجا']\n",
            "Sequence: [157, 158], Words: ['سهل', 'حشيش']\n",
            "Sequence: [159], Words: ['شلاتين']\n",
            "Sequence: [1, 160], Words: ['مدينة', 'حلايب']\n",
            "Sequence: [29, 161], Words: ['مرسى', 'علم']\n",
            "Sequence: [2, 162], Words: ['أبو', 'المطامير']\n",
            "Sequence: [2, 163], Words: ['أبو', 'حمص']\n",
            "Sequence: [164], Words: ['إدكو']\n",
            "Sequence: [165, 166], Words: ['إيتاي', 'البارود']\n",
            "Sequence: [167], Words: ['الدلنجات']\n",
            "Sequence: [168], Words: ['الرحمانية']\n",
            "Sequence: [169], Words: ['المحمودية']\n",
            "Sequence: [170], Words: ['النوبارية']\n",
            "Sequence: [171, 172], Words: ['حوش', 'عيسى']\n",
            "Sequence: [173], Words: ['دمنهور']\n",
            "Sequence: [174], Words: ['رشيد']\n",
            "Sequence: [175], Words: ['شبراخيت']\n",
            "Sequence: [5, 176], Words: ['كفر', 'الدوار']\n",
            "Sequence: [23, 177], Words: ['كوم', 'حمادة']\n",
            "Sequence: [30, 16], Words: ['بدر', 'مركز']\n",
            "Sequence: [178, 179], Words: ['وادي', 'النطرون']\n",
            "Sequence: [31, 180], Words: ['6', 'اكتوبر']\n",
            "Sequence: [2, 181], Words: ['أبو', 'رواش']\n",
            "Sequence: [182, 183], Words: ['أرض', 'اللواء']\n",
            "Sequence: [184], Words: ['أوسيم']\n",
            "Sequence: [185], Words: ['إمبابة']\n",
            "Sequence: [186], Words: ['البدرشين']\n",
            "Sequence: [187], Words: ['البراجيل']\n",
            "Sequence: [188], Words: ['الحوامدية']\n",
            "Sequence: [189], Words: ['الدقي']\n",
            "Sequence: [190], Words: ['الرماية']\n",
            "Sequence: [10, 191], Words: ['الشيخ', 'زايد']\n",
            "Sequence: [192], Words: ['الصحفيين']\n",
            "Sequence: [193], Words: ['الصف']\n",
            "Sequence: [194], Words: ['العجوزة']\n",
            "Sequence: [195], Words: ['العزيزية']\n",
            "Sequence: [196], Words: ['العمرانية']\n",
            "Sequence: [197], Words: ['العياط']\n",
            "Sequence: [198, 199], Words: ['الكيت', 'كات']\n",
            "Sequence: [200], Words: ['المريوطية']\n",
            "Sequence: [201], Words: ['المنصورية']\n",
            "Sequence: [202], Words: ['المنيب']\n",
            "Sequence: [203], Words: ['المهندسين']\n",
            "Sequence: [204], Words: ['الهرم']\n",
            "Sequence: [205], Words: ['الوراق']\n",
            "Sequence: [206], Words: ['بشتيل']\n",
            "Sequence: [32, 207], Words: ['بولاق', 'الدكرور']\n",
            "Sequence: [208], Words: ['ترسا']\n",
            "Sequence: [209, 210], Words: ['جزيرة', 'الدهب']\n",
            "Sequence: [11, 31, 211], Words: ['حدائق', '6', 'أكتوبر']\n",
            "Sequence: [11, 212], Words: ['حدائق', 'الأهرام']\n",
            "Sequence: [3, 33], Words: ['حي', 'الجيزة']\n",
            "Sequence: [213], Words: ['دهشور']\n",
            "Sequence: [214], Words: ['سفط']\n",
            "Sequence: [215], Words: ['سوميد']\n",
            "Sequence: [34], Words: ['فيصل']\n",
            "Sequence: [216], Words: ['كرداسة']\n",
            "Sequence: [5, 217], Words: ['كفر', 'طهرمس']\n",
            "Sequence: [30, 33], Words: ['مركز', 'الجيزة']\n",
            "Sequence: [6, 218], Words: ['ميت', 'عقبة']\n",
            "Sequence: [219], Words: ['ناهيا']\n",
            "Sequence: [220], Words: ['أجا']\n",
            "Sequence: [221], Words: ['أخطاب']\n",
            "Sequence: [35], Words: ['الجمالية']\n",
            "Sequence: [222], Words: ['السنبلاوي']\n",
            "Sequence: [36], Words: ['المطرية']\n",
            "Sequence: [223], Words: ['المنزلة']\n",
            "Sequence: [224], Words: ['المنصورة']\n",
            "Sequence: [225], Words: ['بلقاس']\n",
            "Sequence: [226], Words: ['بنروه']\n",
            "Sequence: [12, 227], Words: ['بني', 'عبيد']\n",
            "Sequence: [228, 229], Words: ['تمى', 'الامديد']\n",
            "Sequence: [230], Words: ['جمصة']\n",
            "Sequence: [231], Words: ['دكرنس']\n",
            "Sequence: [232], Words: ['شربين']\n",
            "Sequence: [233], Words: ['طلخا']\n",
            "Sequence: [1, 234], Words: ['مدينة', 'النصر']\n",
            "Sequence: [6, 235], Words: ['ميت', 'سلسيل']\n",
            "Sequence: [6, 236], Words: ['ميت', 'غمر']\n",
            "Sequence: [237, 238], Words: ['العين', 'السخنة']\n",
            "Sequence: [3, 239], Words: ['حي', 'الأربعين']\n",
            "Sequence: [3, 240], Words: ['حي', 'الجناين']\n",
            "Sequence: [3, 241], Words: ['حي', 'السويس']\n",
            "Sequence: [3, 242], Words: ['حي', 'عتاقة']\n",
            "Sequence: [34], Words: ['فيصل']\n",
            "Sequence: [2, 243], Words: ['أبو', 'حماد']\n",
            "Sequence: [2, 244], Words: ['أبو', 'كبير']\n",
            "Sequence: [245, 37], Words: ['صقر', 'أولاد']\n",
            "Sequence: [246], Words: ['الإبراهيمية']\n",
            "Sequence: [247], Words: ['الحسينية']\n",
            "Sequence: [248], Words: ['الزقازيق']\n",
            "Sequence: [249, 4], Words: ['الجديدة', 'الصالحية']\n",
            "Sequence: [38, 39, 40], Words: ['العاشر', 'من', 'رمضان']\n",
            "Sequence: [250], Words: ['القرين']\n",
            "Sequence: [251], Words: ['القنايات']\n",
            "Sequence: [252], Words: ['بلبيس']\n",
            "Sequence: [253, 254], Words: ['ديرب', 'نجم']\n",
            "Sequence: [255], Words: ['فاقوس']\n",
            "Sequence: [5, 37], Words: ['كفر', 'صقر']\n",
            "Sequence: [256, 257], Words: ['مشتول', 'السوق']\n",
            "Sequence: [258, 259], Words: ['منيا', 'القمح']\n",
            "Sequence: [260], Words: ['ههيا']\n",
            "Sequence: [261], Words: ['السنطة']\n",
            "Sequence: [262, 263], Words: ['المحلة', 'الكبرى']\n",
            "Sequence: [264], Words: ['بسيون']\n",
            "Sequence: [265], Words: ['زفتى']\n",
            "Sequence: [266], Words: ['سمنود']\n",
            "Sequence: [267], Words: ['طنطا']\n",
            "Sequence: [268], Words: ['قطور']\n",
            "Sequence: [5, 269], Words: ['كفر', 'الزيات']\n",
            "Sequence: [270], Words: ['أطسا']\n",
            "Sequence: [271], Words: ['إبشواي']\n",
            "Sequence: [41, 4], Words: ['الجديدة', 'الفيوم']\n",
            "Sequence: [272], Words: ['سنورس']\n",
            "Sequence: [273], Words: ['طامية']\n",
            "Sequence: [1, 41], Words: ['مدينة', 'الفيوم']\n",
            "Sequence: [274, 275], Words: ['يوسف', 'الصديق']\n",
            "Sequence: [17, 276], Words: ['التجمع', 'الأول']\n",
            "Sequence: [17, 277], Words: ['التجمع', 'الخامس']\n",
            "Sequence: [278], Words: ['الحلمية']\n",
            "Sequence: [279], Words: ['الزمالك']\n",
            "Sequence: [280], Words: ['الزيتون']\n",
            "Sequence: [13], Words: ['الساحل']\n",
            "Sequence: [42, 281], Words: ['السيدة', 'زينب']\n",
            "Sequence: [42, 282], Words: ['السيدة', 'عائشة']\n",
            "Sequence: [38, 39, 40], Words: ['العاشر', 'من', 'رمضان']\n",
            "Sequence: [283, 284, 4], Words: ['الجديدة', 'العاصمة', 'الادارية']\n",
            "Sequence: [285], Words: ['العباسية']\n",
            "Sequence: [43], Words: ['العبور']\n",
            "Sequence: [44, 4], Words: ['الجديدة', 'القاهرة']\n",
            "Sequence: [286], Words: ['المرج']\n",
            "Sequence: [36], Words: ['المطرية']\n",
            "Sequence: [45], Words: ['المعادي']\n",
            "Sequence: [287], Words: ['المقطم']\n",
            "Sequence: [288], Words: ['المنيل']\n",
            "Sequence: [289], Words: ['الموسكي']\n",
            "Sequence: [26], Words: ['النزهة']\n",
            "Sequence: [290], Words: ['الوايلي']\n",
            "Sequence: [291, 292], Words: ['باب', 'الشعرية']\n",
            "Sequence: [11, 293], Words: ['حدائق', 'القبة']\n",
            "Sequence: [11, 46], Words: ['حدائق', 'حلوان']\n",
            "Sequence: [46], Words: ['حلوان']\n",
            "Sequence: [47, 7], Words: ['السلام', 'دار']\n",
            "Sequence: [294], Words: ['رمسيس']\n",
            "Sequence: [295, 296], Words: ['روض', 'الفرج']\n",
            "Sequence: [297], Words: ['روكسي']\n",
            "Sequence: [298, 45], Words: ['المعادي', 'زهراء']\n",
            "Sequence: [48], Words: ['شبرا']\n",
            "Sequence: [299], Words: ['عابدين']\n",
            "Sequence: [49, 300], Words: ['عزبة', 'النخل']\n",
            "Sequence: [301, 302], Words: ['عين', 'شمس']\n",
            "Sequence: [303, 304], Words: ['قصر', 'النيل']\n",
            "Sequence: [1, 305, 50], Words: ['مدينة', 'مايو', '15']\n",
            "Sequence: [1, 306], Words: ['مدينة', 'الرحاب']\n",
            "Sequence: [1, 7], Words: ['مدينة', 'السلام']\n",
            "Sequence: [1, 51], Words: ['مدينة', 'الشروق']\n",
            "Sequence: [1, 16], Words: ['مدينة', 'بدر']\n",
            "Sequence: [1, 8], Words: ['مدينة', 'نصر']\n",
            "Sequence: [307], Words: ['مدينتي']\n",
            "Sequence: [52, 4], Words: ['الجديدة', 'مصر']\n",
            "Sequence: [52, 308], Words: ['مصر', 'القديمة']\n",
            "Sequence: [309, 44], Words: ['القاهرة', 'وسط']\n",
            "Sequence: [310], Words: ['الخانكة']\n",
            "Sequence: [311], Words: ['الخصوص']\n",
            "Sequence: [43], Words: ['العبور']\n",
            "Sequence: [53, 312], Words: ['القناطر', 'الخيرية']\n",
            "Sequence: [313], Words: ['بنها']\n",
            "Sequence: [314], Words: ['بهتيم']\n",
            "Sequence: [315, 316], Words: ['زاوية', 'النجار']\n",
            "Sequence: [48, 317], Words: ['شبرا', 'الخيمة']\n",
            "Sequence: [54, 53], Words: ['القناطر', 'شبين']\n",
            "Sequence: [318], Words: ['طوخ']\n",
            "Sequence: [319], Words: ['قليوب']\n",
            "Sequence: [320], Words: ['قها']\n",
            "Sequence: [5, 321], Words: ['كفر', 'شكر']\n",
            "Sequence: [322], Words: ['أشمون']\n",
            "Sequence: [323], Words: ['الباجور']\n",
            "Sequence: [324], Words: ['السادات']\n",
            "Sequence: [325], Words: ['الشهداء']\n",
            "Sequence: [326, 327], Words: ['بركة', 'السبع']\n",
            "Sequence: [328], Words: ['تلا']\n",
            "Sequence: [329, 330], Words: ['سرس', 'الليان']\n",
            "Sequence: [54, 331], Words: ['شبين', 'الكوم']\n",
            "Sequence: [332], Words: ['قويسنا']\n",
            "Sequence: [333], Words: ['منوف']\n",
            "Sequence: [6, 334], Words: ['ميت', 'العز']\n",
            "Sequence: [2, 335], Words: ['أبو', 'قرقاص']\n",
            "Sequence: [336], Words: ['العدوة']\n",
            "Sequence: [55, 4], Words: ['الجديدة', 'المنيا']\n",
            "Sequence: [12, 337], Words: ['بني', 'مزار']\n",
            "Sequence: [338, 339], Words: ['دير', 'مواس']\n",
            "Sequence: [340], Words: ['سمالوط']\n",
            "Sequence: [1, 55], Words: ['مدينة', 'المنيا']\n",
            "Sequence: [341], Words: ['مطاي']\n",
            "Sequence: [342], Words: ['مغاغة']\n",
            "Sequence: [343], Words: ['ملوي']\n",
            "Sequence: [344], Words: ['الخارجة']\n",
            "Sequence: [345], Words: ['الداخلة']\n",
            "Sequence: [346], Words: ['الفرافرة']\n",
            "Sequence: [347], Words: ['باريس']\n",
            "Sequence: [348], Words: ['بلاط']\n",
            "Sequence: [349], Words: ['موط']\n",
            "Sequence: [350], Words: ['إهناسيا']\n",
            "Sequence: [351], Words: ['الفشن']\n",
            "Sequence: [352], Words: ['الواسطي']\n",
            "Sequence: [353], Words: ['ببا']\n",
            "Sequence: [12, 56, 4], Words: ['الجديدة', 'بني', 'سويف']\n",
            "Sequence: [354], Words: ['سمسطا']\n",
            "Sequence: [1, 12, 56], Words: ['مدينة', 'بني', 'سويف']\n",
            "Sequence: [57], Words: ['ناصر']\n",
            "Sequence: [3, 355], Words: ['حي', 'الجنوب']\n",
            "Sequence: [3, 356], Words: ['حي', 'الزهور']\n",
            "Sequence: [3, 357], Words: ['حي', 'الشرق']\n",
            "Sequence: [3, 358], Words: ['حي', 'الضواحي']\n",
            "Sequence: [3, 27], Words: ['حي', 'العرب']\n",
            "Sequence: [3, 359], Words: ['حي', 'مناخ']\n",
            "Sequence: [1, 58, 360], Words: ['مدينة', 'بور', 'سعيد']\n",
            "Sequence: [1, 58, 361], Words: ['مدينة', 'بور', 'فؤاد']\n",
            "Sequence: [2, 362], Words: ['أبو', 'رديس']\n",
            "Sequence: [2, 363], Words: ['أبو', 'زنيمة']\n",
            "Sequence: [364], Words: ['الترابين']\n",
            "Sequence: [365], Words: ['دهب']\n",
            "Sequence: [15, 366], Words: ['رأس', 'سدر']\n",
            "Sequence: [367, 368], Words: ['سانت', 'كاترين']\n",
            "Sequence: [369, 10], Words: ['الشيخ', 'شرم']\n",
            "Sequence: [370], Words: ['طابا']\n",
            "Sequence: [371, 372], Words: ['طور', 'سيناء']\n",
            "Sequence: [373], Words: ['نويبع']\n",
            "Sequence: [374], Words: ['الباز']\n",
            "Sequence: [375], Words: ['الروضة']\n",
            "Sequence: [376], Words: ['الزرقا']\n",
            "Sequence: [377], Words: ['السرو']\n",
            "Sequence: [378], Words: ['النواصرية']\n",
            "Sequence: [59, 4], Words: ['الجديدة', 'دمياط']\n",
            "Sequence: [15, 379], Words: ['رأس', 'البر']\n",
            "Sequence: [49, 380], Words: ['عزبة', 'البرج']\n",
            "Sequence: [381], Words: ['فارسكور']\n",
            "Sequence: [382], Words: ['كحيل']\n",
            "Sequence: [5, 383], Words: ['كفر', 'البطيخ']\n",
            "Sequence: [5, 384], Words: ['كفر', 'سعد']\n",
            "Sequence: [1, 59], Words: ['مدينة', 'دمياط']\n",
            "Sequence: [6, 2, 385], Words: ['أبو', 'ميت', 'غالب']\n",
            "Sequence: [386], Words: ['أخميم']\n",
            "Sequence: [387], Words: ['البلينا']\n",
            "Sequence: [388], Words: ['العسيرات']\n",
            "Sequence: [389], Words: ['المراغة']\n",
            "Sequence: [390], Words: ['المنشاة']\n",
            "Sequence: [391], Words: ['جرجا']\n",
            "Sequence: [392], Words: ['جهينة']\n",
            "Sequence: [47, 7], Words: ['السلام', 'دار']\n",
            "Sequence: [393], Words: ['ساقتلة']\n",
            "Sequence: [394], Words: ['طما']\n",
            "Sequence: [395], Words: ['طهطا']\n",
            "Sequence: [1, 396], Words: ['مدينة', 'سوهاج']\n",
            "Sequence: [397], Words: ['الحسنة']\n",
            "Sequence: [10, 398], Words: ['الشيخ', 'زويد']\n",
            "Sequence: [399], Words: ['العريش']\n",
            "Sequence: [400, 401], Words: ['بئر', 'العبد']\n",
            "Sequence: [402], Words: ['رفح']\n",
            "Sequence: [403], Words: ['نخل']\n",
            "Sequence: [2, 404], Words: ['أبو', 'تشت']\n",
            "Sequence: [405], Words: ['الوقف']\n",
            "Sequence: [406], Words: ['شنا']\n",
            "Sequence: [407], Words: ['فرشوط']\n",
            "Sequence: [408], Words: ['قفط']\n",
            "Sequence: [409], Words: ['قوص']\n",
            "Sequence: [60, 410], Words: ['مدنية', 'قنا']\n",
            "Sequence: [411, 412], Words: ['نجع', 'حمادي']\n",
            "Sequence: [413], Words: ['نقادة']\n",
            "Sequence: [414], Words: ['البرلس']\n",
            "Sequence: [415], Words: ['الحامول']\n",
            "Sequence: [416], Words: ['الرياض']\n",
            "Sequence: [417], Words: ['بلطيم']\n",
            "Sequence: [418], Words: ['بيلا']\n",
            "Sequence: [419], Words: ['دسوق']\n",
            "Sequence: [9, 420], Words: ['سيدي', 'سالم']\n",
            "Sequence: [421], Words: ['فوه']\n",
            "Sequence: [422], Words: ['قلين']\n",
            "Sequence: [60, 5, 10], Words: ['كفر', 'الشيخ', 'مدنية']\n",
            "Sequence: [423], Words: ['مسير']\n",
            "Sequence: [424], Words: ['مطوبس']\n",
            "Sequence: [425], Words: ['الحمام']\n",
            "Sequence: [13, 25], Words: ['الساحل', 'الشمالي']\n",
            "Sequence: [426], Words: ['السلوم']\n",
            "Sequence: [427], Words: ['الضبعة']\n",
            "Sequence: [14], Words: ['العلمين']\n",
            "Sequence: [428], Words: ['النجيلة']\n",
            "Sequence: [9, 429], Words: ['سيدي', 'براني']\n",
            "Sequence: [430], Words: ['سيوة']\n",
            "Sequence: [431, 14], Words: ['العلمين', 'مارينا']\n",
            "Sequence: [29, 432], Words: ['مرسى', 'مطروح']\n",
            "Sequence: [433, 18, 19], Words: ['القاهره', 'الجديده', 'ثالث']\n",
            "Sequence: [51], Words: ['الشروق']\n",
            "Sequence: [20, 7], Words: ['السلام', 'ثان']\n",
            "Sequence: [434], Words: ['الخليفة']\n",
            "Sequence: [435], Words: ['الازبكية']\n",
            "Sequence: [32], Words: ['بولاق']\n",
            "Sequence: [436, 437, 50], Words: ['مايو', 'خمسة', 'عشر']\n",
            "Sequence: [21, 1, 8], Words: ['مدينة', 'نصر', 'أول']\n",
            "Sequence: [21, 18, 19], Words: ['القاهره', 'الجديده', 'أول']\n",
            "Sequence: [438], Words: ['المعصرة']\n",
            "Sequence: [439, 440], Words: ['الدرب', 'الاحمر']\n",
            "Sequence: [17, 441], Words: ['التجمع', 'الاول']\n",
            "Sequence: [442], Words: ['الشرابية']\n",
            "Sequence: [21, 7], Words: ['السلام', 'أول']\n",
            "Sequence: [443], Words: ['المعادى']\n",
            "Sequence: [444], Words: ['الظاهر']\n",
            "Sequence: [445], Words: ['الوايلى']\n",
            "Sequence: [446, 16], Words: ['بدر', 'مدينه']\n",
            "Sequence: [20, 18, 19], Words: ['القاهره', 'الجديده', 'ثان']\n",
            "Sequence: [447, 448], Words: ['الزاوية', 'الحمراء']\n",
            "Sequence: [449], Words: ['التبين']\n",
            "Sequence: [450], Words: ['الموسكى']\n",
            "Sequence: [451], Words: ['طره']\n",
            "Sequence: [452], Words: ['الاميرية']\n",
            "Sequence: [453], Words: ['القطامية']\n",
            "Sequence: [454, 57], Words: ['ناصر', 'منشأة']\n",
            "Sequence: [455], Words: ['البساتين']\n",
            "Sequence: [35], Words: ['الجمالية']\n",
            "Sequence: [20, 1, 8], Words: ['مدينة', 'نصر', 'ثان']\n"
          ]
        }
      ]
    },
    {
      "cell_type": "code",
      "source": [
        "embedding_dim = 300\n",
        "embedding_matrix = np.zeros((vocab_size, embedding_dim))\n",
        "\n",
        "for word, i in tokenizer.word_index.items():\n",
        "        embedding_vector = model.get_word_vector(word)\n",
        "        embedding_matrix[i] = embedding_vector"
      ],
      "metadata": {
        "id": "Y7CNG5gf-3_N"
      },
      "execution_count": null,
      "outputs": []
    },
    {
      "cell_type": "code",
      "source": [
        "padded_sequences.shape"
      ],
      "metadata": {
        "colab": {
          "base_uri": "https://localhost:8080/"
        },
        "id": "LbRyhp1BH7Kk",
        "outputId": "7a582171-fe63-46dd-bda2-bffcf05302ee"
      },
      "execution_count": null,
      "outputs": [
        {
          "output_type": "execute_result",
          "data": {
            "text/plain": [
              "(413, 3)"
            ]
          },
          "metadata": {},
          "execution_count": 34
        }
      ]
    },
    {
      "cell_type": "code",
      "source": [
        "classes_count = df['label'].value_counts()\n",
        "neg= classes_count[0]\n",
        "pos= classes_count[1]\n",
        "total= sum(classes_count)"
      ],
      "metadata": {
        "id": "pyTgyM5p3VpD"
      },
      "execution_count": null,
      "outputs": []
    },
    {
      "cell_type": "code",
      "source": [
        "weight_for_0 = (1 / neg) * (total / 2.0)\n",
        "weight_for_1 = (1 / pos) * (total / 2.0)\n",
        "class_weight = {0: weight_for_0, 1: weight_for_1}"
      ],
      "metadata": {
        "id": "gv_RIEl43Wm5"
      },
      "execution_count": null,
      "outputs": []
    },
    {
      "cell_type": "code",
      "source": [
        "class_weight"
      ],
      "metadata": {
        "colab": {
          "base_uri": "https://localhost:8080/"
        },
        "id": "GlTIpTMC4hK5",
        "outputId": "fb24f1cb-dc6a-4616-ca55-c4251b299ddd"
      },
      "execution_count": null,
      "outputs": [
        {
          "output_type": "execute_result",
          "data": {
            "text/plain": [
              "{0: 0.6091445427728613, 1: 2.790540540540541}"
            ]
          },
          "metadata": {},
          "execution_count": 37
        }
      ]
    },
    {
      "cell_type": "code",
      "source": [
        "lstm_model = Sequential()\n",
        "lstm_model.add(Embedding(input_dim=vocab_size, output_dim=embedding_dim, input_length=max_length, weights=[embedding_matrix], trainable=False))\n",
        "lstm_model.add(LSTM(units=128))\n",
        "lstm_model.add(Dense(units=1, activation='sigmoid'))\n",
        "\n",
        "lstm_model.compile(loss='binary_crossentropy', optimizer='adam', metrics=['accuracy'])\n",
        "print(lstm_model.summary())\n",
        "\n",
        "y = np.array(df['label'])\n",
        "X_train, X_test, y_train, y_test = train_test_split(padded_sequences, y, test_size=0.2, random_state=42, shuffle = True)\n",
        "\n",
        "label_encoder = LabelEncoder()\n",
        "y_train_encoded = label_encoder.fit_transform(y_train)\n",
        "y_test_encoded = label_encoder.transform(y_test)\n",
        "lstm_model.fit(X_train, y_train_encoded, epochs=10, batch_size=32, validation_split=0.2, class_weight=class_weight)\n",
        "\n",
        "loss, accuracy = lstm_model.evaluate(X_test, y_test_encoded)\n",
        "print(f'Validation Accuracy: {accuracy}')\n"
      ],
      "metadata": {
        "colab": {
          "base_uri": "https://localhost:8080/"
        },
        "id": "OX6b5EdH5_-f",
        "outputId": "00fdfcdf-8d47-4a3e-d1fc-5faf1497774f"
      },
      "execution_count": null,
      "outputs": [
        {
          "output_type": "stream",
          "name": "stdout",
          "text": [
            "Model: \"sequential\"\n",
            "_________________________________________________________________\n",
            " Layer (type)                Output Shape              Param #   \n",
            "=================================================================\n",
            " embedding (Embedding)       (None, 3, 300)            136800    \n",
            "                                                                 \n",
            " lstm (LSTM)                 (None, 128)               219648    \n",
            "                                                                 \n",
            " dense (Dense)               (None, 1)                 129       \n",
            "                                                                 \n",
            "=================================================================\n",
            "Total params: 356577 (1.36 MB)\n",
            "Trainable params: 219777 (858.50 KB)\n",
            "Non-trainable params: 136800 (534.38 KB)\n",
            "_________________________________________________________________\n",
            "None\n",
            "Epoch 1/10\n",
            "9/9 [==============================] - 3s 95ms/step - loss: 0.7110 - accuracy: 0.2992 - val_loss: 0.6906 - val_accuracy: 0.4242\n",
            "Epoch 2/10\n",
            "9/9 [==============================] - 0s 18ms/step - loss: 0.6856 - accuracy: 0.5606 - val_loss: 0.6765 - val_accuracy: 0.5758\n",
            "Epoch 3/10\n",
            "9/9 [==============================] - 0s 21ms/step - loss: 0.6483 - accuracy: 0.6212 - val_loss: 0.6476 - val_accuracy: 0.5909\n",
            "Epoch 4/10\n",
            "9/9 [==============================] - 0s 18ms/step - loss: 0.5853 - accuracy: 0.6705 - val_loss: 0.5803 - val_accuracy: 0.6970\n",
            "Epoch 5/10\n",
            "9/9 [==============================] - 0s 19ms/step - loss: 0.4873 - accuracy: 0.7879 - val_loss: 0.4743 - val_accuracy: 0.7727\n",
            "Epoch 6/10\n",
            "9/9 [==============================] - 0s 18ms/step - loss: 0.3871 - accuracy: 0.8371 - val_loss: 0.4279 - val_accuracy: 0.7727\n",
            "Epoch 7/10\n",
            "9/9 [==============================] - 0s 20ms/step - loss: 0.3225 - accuracy: 0.8561 - val_loss: 0.3864 - val_accuracy: 0.7879\n",
            "Epoch 8/10\n",
            "9/9 [==============================] - 0s 18ms/step - loss: 0.2674 - accuracy: 0.8826 - val_loss: 0.3355 - val_accuracy: 0.8788\n",
            "Epoch 9/10\n",
            "9/9 [==============================] - 0s 17ms/step - loss: 0.2240 - accuracy: 0.8902 - val_loss: 0.3296 - val_accuracy: 0.8939\n",
            "Epoch 10/10\n",
            "9/9 [==============================] - 0s 18ms/step - loss: 0.1790 - accuracy: 0.9129 - val_loss: 0.3420 - val_accuracy: 0.8788\n",
            "3/3 [==============================] - 0s 7ms/step - loss: 0.4757 - accuracy: 0.8193\n",
            "Validation Accuracy: 0.8192771077156067\n"
          ]
        }
      ]
    },
    {
      "cell_type": "code",
      "source": [
        "gru_model = Sequential()\n",
        "gru_model.add(Embedding(input_dim=vocab_size, output_dim=embedding_dim, input_length=max_length, weights=[embedding_matrix], trainable=False))\n",
        "gru_model.add(GRU(units=128))\n",
        "gru_model.add(Dense(units=1, activation='sigmoid'))\n",
        "\n",
        "gru_model.compile(loss='binary_crossentropy', optimizer='adam', metrics=['accuracy'])\n",
        "print(gru_model.summary())\n",
        "\n",
        "gru_model.fit(X_train, y_train_encoded, epochs=10, batch_size=32, validation_split=0.2, class_weight=class_weight)\n",
        "\n",
        "loss, accuracy = gru_model.evaluate(X_test, y_test_encoded)\n",
        "print(f'Validation Accuracy (GRU): {accuracy}')\n"
      ],
      "metadata": {
        "colab": {
          "base_uri": "https://localhost:8080/"
        },
        "id": "Jz22NGON5dla",
        "outputId": "43698f53-36dc-4e1f-f3c6-0879311e566f"
      },
      "execution_count": null,
      "outputs": [
        {
          "output_type": "stream",
          "name": "stdout",
          "text": [
            "Model: \"sequential_1\"\n",
            "_________________________________________________________________\n",
            " Layer (type)                Output Shape              Param #   \n",
            "=================================================================\n",
            " embedding_1 (Embedding)     (None, 3, 300)            136800    \n",
            "                                                                 \n",
            " gru (GRU)                   (None, 128)               165120    \n",
            "                                                                 \n",
            " dense_1 (Dense)             (None, 1)                 129       \n",
            "                                                                 \n",
            "=================================================================\n",
            "Total params: 302049 (1.15 MB)\n",
            "Trainable params: 165249 (645.50 KB)\n",
            "Non-trainable params: 136800 (534.38 KB)\n",
            "_________________________________________________________________\n",
            "None\n",
            "Epoch 1/10\n",
            "9/9 [==============================] - 3s 75ms/step - loss: 0.7043 - accuracy: 0.5227 - val_loss: 0.6799 - val_accuracy: 0.4697\n",
            "Epoch 2/10\n",
            "9/9 [==============================] - 0s 13ms/step - loss: 0.6640 - accuracy: 0.6250 - val_loss: 0.6467 - val_accuracy: 0.5909\n",
            "Epoch 3/10\n",
            "9/9 [==============================] - 0s 12ms/step - loss: 0.6005 - accuracy: 0.7235 - val_loss: 0.5558 - val_accuracy: 0.7424\n",
            "Epoch 4/10\n",
            "9/9 [==============================] - 0s 12ms/step - loss: 0.5001 - accuracy: 0.8182 - val_loss: 0.4694 - val_accuracy: 0.7727\n",
            "Epoch 5/10\n",
            "9/9 [==============================] - 0s 13ms/step - loss: 0.3970 - accuracy: 0.8068 - val_loss: 0.4124 - val_accuracy: 0.7879\n",
            "Epoch 6/10\n",
            "9/9 [==============================] - 0s 10ms/step - loss: 0.3335 - accuracy: 0.8712 - val_loss: 0.3427 - val_accuracy: 0.8788\n",
            "Epoch 7/10\n",
            "9/9 [==============================] - 0s 10ms/step - loss: 0.2810 - accuracy: 0.8636 - val_loss: 0.4016 - val_accuracy: 0.8030\n",
            "Epoch 8/10\n",
            "9/9 [==============================] - 0s 11ms/step - loss: 0.2377 - accuracy: 0.8788 - val_loss: 0.2993 - val_accuracy: 0.8939\n",
            "Epoch 9/10\n",
            "9/9 [==============================] - 0s 10ms/step - loss: 0.2172 - accuracy: 0.9242 - val_loss: 0.2999 - val_accuracy: 0.9091\n",
            "Epoch 10/10\n",
            "9/9 [==============================] - 0s 13ms/step - loss: 0.1838 - accuracy: 0.9318 - val_loss: 0.3146 - val_accuracy: 0.8788\n",
            "3/3 [==============================] - 0s 5ms/step - loss: 0.4324 - accuracy: 0.8072\n",
            "Validation Accuracy (GRU): 0.8072289228439331\n"
          ]
        }
      ]
    },
    {
      "cell_type": "code",
      "source": [
        "# early_stopping = EarlyStopping(monitor='val_loss', patience=2, restore_best_weights=True)\n",
        "\n",
        "birnn_model = Sequential()\n",
        "birnn_model.add(Embedding(input_dim=vocab_size, output_dim=embedding_dim, input_length=max_length, weights=[embedding_matrix], trainable=False))\n",
        "birnn_model.add(Bidirectional(SimpleRNN(units=128)))\n",
        "birnn_model.add(Dense(units=1, activation='sigmoid'))\n",
        "\n",
        "birnn_model.compile(loss='binary_crossentropy', optimizer='adam', metrics=['accuracy'])\n",
        "print(birnn_model.summary())\n",
        "\n",
        "birnn_model.fit(X_train, y_train_encoded, epochs=10, batch_size=32, validation_split=0.2,class_weight=class_weight)\n",
        "\n",
        "loss, accuracy = birnn_model.evaluate(X_test, y_test_encoded)\n",
        "print(f'Validation Accuracy (Bidirectional RNN): {accuracy}')\n"
      ],
      "metadata": {
        "colab": {
          "base_uri": "https://localhost:8080/"
        },
        "id": "cnX7ZVck6_8f",
        "outputId": "9dc63bf5-d5c4-423c-da2d-42ccd8875e00"
      },
      "execution_count": null,
      "outputs": [
        {
          "output_type": "stream",
          "name": "stdout",
          "text": [
            "Model: \"sequential_2\"\n",
            "_________________________________________________________________\n",
            " Layer (type)                Output Shape              Param #   \n",
            "=================================================================\n",
            " embedding_2 (Embedding)     (None, 3, 300)            136800    \n",
            "                                                                 \n",
            " bidirectional (Bidirection  (None, 256)               109824    \n",
            " al)                                                             \n",
            "                                                                 \n",
            " dense_2 (Dense)             (None, 1)                 257       \n",
            "                                                                 \n",
            "=================================================================\n",
            "Total params: 246881 (964.38 KB)\n",
            "Trainable params: 110081 (430.00 KB)\n",
            "Non-trainable params: 136800 (534.38 KB)\n",
            "_________________________________________________________________\n",
            "None\n",
            "Epoch 1/10\n",
            "9/9 [==============================] - 2s 52ms/step - loss: 0.6717 - accuracy: 0.6705 - val_loss: 0.6091 - val_accuracy: 0.6515\n",
            "Epoch 2/10\n",
            "9/9 [==============================] - 0s 10ms/step - loss: 0.5120 - accuracy: 0.8030 - val_loss: 0.5221 - val_accuracy: 0.7424\n",
            "Epoch 3/10\n",
            "9/9 [==============================] - 0s 12ms/step - loss: 0.3917 - accuracy: 0.8295 - val_loss: 0.4410 - val_accuracy: 0.7879\n",
            "Epoch 4/10\n",
            "9/9 [==============================] - 0s 8ms/step - loss: 0.3078 - accuracy: 0.8561 - val_loss: 0.3560 - val_accuracy: 0.8636\n",
            "Epoch 5/10\n",
            "9/9 [==============================] - 0s 10ms/step - loss: 0.2283 - accuracy: 0.8750 - val_loss: 0.3341 - val_accuracy: 0.8939\n",
            "Epoch 6/10\n",
            "9/9 [==============================] - 0s 8ms/step - loss: 0.1799 - accuracy: 0.9394 - val_loss: 0.2837 - val_accuracy: 0.8939\n",
            "Epoch 7/10\n",
            "9/9 [==============================] - 0s 9ms/step - loss: 0.1346 - accuracy: 0.9545 - val_loss: 0.3315 - val_accuracy: 0.8485\n",
            "Epoch 8/10\n",
            "9/9 [==============================] - 0s 8ms/step - loss: 0.0964 - accuracy: 0.9621 - val_loss: 0.3203 - val_accuracy: 0.8636\n",
            "Epoch 9/10\n",
            "9/9 [==============================] - 0s 10ms/step - loss: 0.0767 - accuracy: 0.9773 - val_loss: 0.3682 - val_accuracy: 0.8636\n",
            "Epoch 10/10\n",
            "9/9 [==============================] - 0s 9ms/step - loss: 0.0604 - accuracy: 0.9697 - val_loss: 0.3739 - val_accuracy: 0.8636\n",
            "3/3 [==============================] - 0s 5ms/step - loss: 0.5262 - accuracy: 0.8072\n",
            "Validation Accuracy (Bidirectional RNN): 0.8072289228439331\n"
          ]
        }
      ]
    },
    {
      "cell_type": "code",
      "source": [
        "import matplotlib.pyplot as plt\n",
        "from sklearn.metrics import precision_recall_curve\n",
        "\n",
        "\n",
        "def plot_precision_recall_vs_threshold(precisions, recalls, thresholds):\n",
        "    plt.plot(thresholds, precisions[:-1], \"b--\", label=\"Precision\")\n",
        "    plt.plot(thresholds, recalls[:-1], \"g-\", label=\"Recall\")\n",
        "    matching_thresholds = thresholds[(precisions[:-1] >= 0.7) & (recalls[:-1] >= 0.7)]\n",
        "    # matching_thresholds = thresholds[np.isclose(precisions[:-1], recalls[:-1], atol=0.2)]\n",
        "\n",
        "    if matching_thresholds.size > 0:\n",
        "        threshold = matching_thresholds[0]\n",
        "        index = np.argmax(precisions >= 0.7)\n",
        "        plt.scatter([threshold], [precisions[index]], c='red', marker='o', label='threshold that get percision and recall values close')\n",
        "        plt.axvline(threshold, color='gray', linestyle='--')\n",
        "        plt.axhline(precisions[index], color='gray', linestyle='--')\n",
        "\n",
        "    plt.legend()\n",
        "    plt.xlabel('Threshold')\n",
        "    plt.ylabel('Score')\n",
        "    plt.title('Precision-Recall vs Threshold')\n",
        "    plt.grid(True)"
      ],
      "metadata": {
        "id": "9_4Mz10g8d_S"
      },
      "execution_count": null,
      "outputs": []
    },
    {
      "cell_type": "code",
      "source": [
        "import matplotlib.pyplot as plt\n",
        "import numpy as np\n",
        "from sklearn.metrics import roc_curve, auc\n",
        "\n",
        "def plot_roc_curve_with_target_point(fpr, tpr, thresholds, target_sensitivity=0.7, target_specificity=0.8):\n",
        "    roc_auc = auc(fpr, tpr)\n",
        "\n",
        "    plt.plot(fpr, tpr, color='darkorange', lw=2, label='ROC curve (area = {:.2f})'.format(roc_auc))\n",
        "\n",
        "    target_thresholds = thresholds[(tpr >= target_sensitivity) & (1 - fpr >= target_specificity)]\n",
        "\n",
        "    if target_thresholds.size > 0:\n",
        "        target_threshold = target_thresholds[0]\n",
        "        index = np.argmax(tpr >= target_sensitivity)\n",
        "        plt.scatter(fpr[index], tpr[index], c='red', marker='o', label=f'Target Point (Sensitivity={target_sensitivity}, Specificity={target_specificity})')\n",
        "\n",
        "        plt.axhline(tpr[index], color='gray', linestyle='--')\n",
        "        plt.axvline(fpr[index], color='gray', linestyle='--')\n",
        "\n",
        "    plt.plot([0, 1], [0, 1], color='navy', lw=2, linestyle='--')\n",
        "    plt.xlim([0.0, 1.0])\n",
        "    plt.ylim([0.0, 1.05])\n",
        "    plt.xlabel('False Positive Rate')\n",
        "    plt.ylabel('True Positive Rate')\n",
        "    plt.title('ROC Curve')\n",
        "    plt.legend(loc='lower right')\n",
        "    plt.show()"
      ],
      "metadata": {
        "id": "oE84C1R5GzJ8"
      },
      "execution_count": null,
      "outputs": []
    },
    {
      "cell_type": "code",
      "source": [
        "y_train_pred = gru_model.predict(X_train) >=0.5\n",
        "y_test_pred = gru_model.predict(X_test) >=0.5\n",
        "print(precision_score(y_train_encoded, y_train_pred))\n",
        "print(recall_score(y_train_encoded, y_train_pred))\n",
        "print(precision_score(y_test_encoded, y_test_pred))\n",
        "print(recall_score(y_test_encoded, y_test_pred))\n",
        "\n",
        "precision, recall, thresholds = precision_recall_curve(y_train_encoded, y_train_pred)\n",
        "\n",
        "plt.figure(figsize=(10, 6))\n",
        "plot_precision_recall_vs_threshold(precision, recall, thresholds)\n",
        "plt.show()\n",
        "\n",
        "fpr, tpr, thresholds = roc_curve(y_train_encoded, y_train_pred)\n",
        "\n",
        "plt.figure(figsize=(10, 6))\n",
        "plot_roc_curve_with_target_point(fpr, tpr, thresholds, target_sensitivity=0.7, target_specificity=0.8)"
      ],
      "metadata": {
        "colab": {
          "base_uri": "https://localhost:8080/",
          "height": 1000
        },
        "id": "gwh3tX3GNj_9",
        "outputId": "a46e104f-6eaa-460f-cf28-91c2f118abe0"
      },
      "execution_count": null,
      "outputs": [
        {
          "output_type": "stream",
          "name": "stdout",
          "text": [
            "11/11 [==============================] - 0s 3ms/step\n",
            "3/3 [==============================] - 0s 5ms/step\n",
            "0.7307692307692307\n",
            "0.9344262295081968\n",
            "0.4\n",
            "0.46153846153846156\n"
          ]
        },
        {
          "output_type": "display_data",
          "data": {
            "text/plain": [
              "<Figure size 1000x600 with 1 Axes>"
            ],
            "image/png": "[encoded data removed]"
          },
          "metadata": {}
        },
        {
          "output_type": "display_data",
          "data": {
            "text/plain": [
              "<Figure size 1000x600 with 1 Axes>"
            ],
            "image/png": "[encoded data removed]"
          },
          "metadata": {}
        }
      ]
    }
  ]
}